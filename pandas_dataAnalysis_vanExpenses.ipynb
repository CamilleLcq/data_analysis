{
 "cells": [
  {
   "cell_type": "code",
   "execution_count": 306,
   "metadata": {},
   "outputs": [],
   "source": [
    "import pandas as pd"
   ]
  },
  {
   "cell_type": "markdown",
   "metadata": {},
   "source": [
    "Fonctions de base de Pandas:\n",
    "- **head(n)** : Affiche les n premières lignes d'un DataFrame.\n",
    "- **tail(n)** : Affiche les n dernières lignes d'un DataFrame.\n",
    "- **shape** : Affiche le nombre de lignes et de colonnes d'un DataFrame.\n",
    "- **describe()** : Affiche des statistiques descriptives (moyenne, écart-type, etc.) pour chaque colonne numérique d'un DataFrame.\n",
    "- **columns** : Affiche les noms de colonnes d'un DataFrame.\n",
    "- **dtypes** : Affiche les types de données de chaque colonne d'un DataFrame.\n",
    "- **info()** : Affiche des informations sur les colonnes d'un DataFrame, telles que leurs noms, types de données et nombre de valeurs non nulles.\n",
    "- sort_values(by, ascending=True) : Trie les lignes d'un DataFrame en fonction d'une colonne spécifique, soit dans l'ordre croissant (par défaut) ou décroissant.\n",
    "- **groupby(colonne)** : Regroupe les lignes d'un DataFrame par valeur d'une colonne spécifique.\n",
    "- **loc[]** : Sélectionne des lignes ou des colonnes d'un DataFrame en utilisant des étiquettes de lignes et de colonnes.\n",
    "- **iloc[]** : Sélectionne des lignes ou des colonnes d'un DataFrame en utilisant des index numériques.\n",
    "- **agg()** : Applique une ou plusieurs fonctions d'agrégation à un DataFrame ou une sélection de lignes ou de colonnes.\n",
    "- **apply()** : Applique une fonction à chaque élément d'un DataFrame ou d'une sélection de lignes ou de colonnes.\n",
    "- **dropna()** : Supprime les lignes ou les colonnes contenant des valeurs manquantes d'un DataFrame.\n",
    "- **fillna(value)** : Remplace les valeurs manquantes dans un DataFrame par une valeur spécifique.\n",
    "- **merge(df2, on, how='inner')** : Fusionne deux DataFrames en utilisant une colonne spécifique comme clé de jointure. La méthode de fusion peut être définie comme 'inner', 'outer', 'left' ou 'right' join.\n",
    "- **join(df2, on, how='left')** : Joint deux DataFrames en utilisant les index comme clé de jointure. La méthode de jointure peut être définie comme 'left', 'right', 'inner' ou 'outer' join.\n",
    "- **pivot(index, columns, values)** : Transforme un DataFrame en utilisant une colonne comme index, une autre colonne comme colonnes et une troisième colonne comme valeurs.\n",
    "- **rename(columns={'old_name': 'new_name'}, inplace=False)** : Renomme une ou plusieurs colonnes d'un DataFrame. L'argument 'inplace' permet de choisir si les modifications sont effectuées sur l'objet d'origine ou sur une copie.\n",
    "- **query(condition)** : Sélectionne les lignes d'un DataFrame qui satisfont une condition donnée. La condition peut être exprimée en utilisant des opérateurs booléens et les noms de colonnes.\n",
    "- **replace(old, new)** : Remplace une valeur ou une liste de valeurs dans un DataFrame par une autre valeur ou une autre liste de valeurs.\n",
    "- **sample(n) : Retourne un échantillon aléatoire de n lignes d'un DataFrame.\n",
    "- **nlargest(n, columns)** : Retourne les n lignes ayant les plus grandes valeurs d'une ou plusieurs colonnes spécifiées.\n",
    "- **nsmallest(n, columns)** : Retourne les n lignes ayant les plus petites valeurs d'une ou plusieurs colonnes spécifiées.\n",
    "- **to_csv('file.csv')** : Sauvegarde un DataFrame dans un fichier csv"
   ]
  },
  {
   "cell_type": "markdown",
   "metadata": {},
   "source": [
    "# Charger les données"
   ]
  },
  {
   "cell_type": "markdown",
   "metadata": {},
   "source": [
    "Il existe plusieurs moyens de charger des données dans un notebook Jupyter, voici quelques exemples :\n",
    "\n",
    "- Charger des données à partir d'un fichier CSV ou Excel: Vous pouvez utiliser la bibliothèque Pandas pour lire les données à partir d'un fichier CSV ou Excel en utilisant les fonctions **read_csv()** ou **read_excel()**.\n",
    "- Charger des données à partir d'une base de données: Vous pouvez utiliser la bibliothèque SQLAlchemy pour établir une connexion à une base de données relationnelle, puis utiliser des requêtes SQL pour récupérer les données en utilisant les fonctions **read_sql()** ou **read_sql_query()** de Pandas.\n",
    "- Charger des données à partir d'une API: Vous pouvez utiliser la bibliothèque requests pour envoyer des requêtes HTTP à une API et récupérer les données sous forme de fichier JSON ou XML, puis utiliser des fonctions telles que **json()** ou **text()** pour charger les données dans un DataFrame Pandas.\n",
    "- Charger des données à partir d'autres sources: Il existe également des bibliothèques pour charger des données à partir de différentes sources telles que SAS, SPSS, Stata, HDF5, etc. Il existe également des bibliothèques pour charger des données dans des formats de fichier non traditionnels tels que des fichiers de type parquet ou avro.\n",
    "\n",
    "Il est important de noter que les données peuvent être chargées en mémoire ou en utilisant un système de stockage distribué tel que Apache Parquet ou Apache ORC. Il est également important de vérifier les autorisations d'accès et les restrictions d'utilisation des données avant de les charger."
   ]
  },
  {
   "cell_type": "code",
   "execution_count": 307,
   "metadata": {},
   "outputs": [],
   "source": [
    "depenses = pd.read_csv(\"Toshl-Van-Expenses.csv\")"
   ]
  },
  {
   "cell_type": "code",
   "execution_count": 308,
   "metadata": {},
   "outputs": [
    {
     "data": {
      "text/html": [
       "<div>\n",
       "<style scoped>\n",
       "    .dataframe tbody tr th:only-of-type {\n",
       "        vertical-align: middle;\n",
       "    }\n",
       "\n",
       "    .dataframe tbody tr th {\n",
       "        vertical-align: top;\n",
       "    }\n",
       "\n",
       "    .dataframe thead th {\n",
       "        text-align: right;\n",
       "    }\n",
       "</style>\n",
       "<table border=\"1\" class=\"dataframe\">\n",
       "  <thead>\n",
       "    <tr style=\"text-align: right;\">\n",
       "      <th></th>\n",
       "      <th>lat</th>\n",
       "      <th>lon</th>\n",
       "      <th>time</th>\n",
       "    </tr>\n",
       "  </thead>\n",
       "  <tbody>\n",
       "    <tr>\n",
       "      <td>0</td>\n",
       "      <td>36.095807</td>\n",
       "      <td>-115.177289</td>\n",
       "      <td>1.667323e+09</td>\n",
       "    </tr>\n",
       "    <tr>\n",
       "      <td>1</td>\n",
       "      <td>36.086533</td>\n",
       "      <td>-115.185564</td>\n",
       "      <td>1.667329e+09</td>\n",
       "    </tr>\n",
       "    <tr>\n",
       "      <td>2</td>\n",
       "      <td>36.028595</td>\n",
       "      <td>-115.216997</td>\n",
       "      <td>1.667329e+09</td>\n",
       "    </tr>\n",
       "    <tr>\n",
       "      <td>3</td>\n",
       "      <td>36.032000</td>\n",
       "      <td>-115.338441</td>\n",
       "      <td>1.667330e+09</td>\n",
       "    </tr>\n",
       "    <tr>\n",
       "      <td>4</td>\n",
       "      <td>36.035316</td>\n",
       "      <td>-115.355662</td>\n",
       "      <td>1.667330e+09</td>\n",
       "    </tr>\n",
       "    <tr>\n",
       "      <td>...</td>\n",
       "      <td>...</td>\n",
       "      <td>...</td>\n",
       "      <td>...</td>\n",
       "    </tr>\n",
       "    <tr>\n",
       "      <td>7619</td>\n",
       "      <td>45.521433</td>\n",
       "      <td>-73.572116</td>\n",
       "      <td>1.671224e+09</td>\n",
       "    </tr>\n",
       "    <tr>\n",
       "      <td>7620</td>\n",
       "      <td>45.523435</td>\n",
       "      <td>-73.576254</td>\n",
       "      <td>1.671225e+09</td>\n",
       "    </tr>\n",
       "    <tr>\n",
       "      <td>7621</td>\n",
       "      <td>45.525538</td>\n",
       "      <td>-73.574636</td>\n",
       "      <td>1.671225e+09</td>\n",
       "    </tr>\n",
       "    <tr>\n",
       "      <td>7622</td>\n",
       "      <td>45.523576</td>\n",
       "      <td>-73.571317</td>\n",
       "      <td>1.671225e+09</td>\n",
       "    </tr>\n",
       "    <tr>\n",
       "      <td>7623</td>\n",
       "      <td>45.521777</td>\n",
       "      <td>-73.572407</td>\n",
       "      <td>1.671225e+09</td>\n",
       "    </tr>\n",
       "  </tbody>\n",
       "</table>\n",
       "<p>7624 rows × 3 columns</p>\n",
       "</div>"
      ],
      "text/plain": [
       "            lat         lon          time\n",
       "0     36.095807 -115.177289  1.667323e+09\n",
       "1     36.086533 -115.185564  1.667329e+09\n",
       "2     36.028595 -115.216997  1.667329e+09\n",
       "3     36.032000 -115.338441  1.667330e+09\n",
       "4     36.035316 -115.355662  1.667330e+09\n",
       "...         ...         ...           ...\n",
       "7619  45.521433  -73.572116  1.671224e+09\n",
       "7620  45.523435  -73.576254  1.671225e+09\n",
       "7621  45.525538  -73.574636  1.671225e+09\n",
       "7622  45.523576  -73.571317  1.671225e+09\n",
       "7623  45.521777  -73.572407  1.671225e+09\n",
       "\n",
       "[7624 rows x 3 columns]"
      ]
     },
     "execution_count": 308,
     "metadata": {},
     "output_type": "execute_result"
    }
   ],
   "source": [
    "import json\n",
    "\n",
    "jsonData = json.load(open(\"locations.json\"))\n",
    "locations = pd.DataFrame(jsonData[\"locations\"])\n",
    "locations"
   ]
  },
  {
   "cell_type": "markdown",
   "metadata": {},
   "source": [
    "\n",
    "# Exploration des données"
   ]
  },
  {
   "cell_type": "code",
   "execution_count": 309,
   "metadata": {},
   "outputs": [
    {
     "data": {
      "text/html": [
       "<div>\n",
       "<style scoped>\n",
       "    .dataframe tbody tr th:only-of-type {\n",
       "        vertical-align: middle;\n",
       "    }\n",
       "\n",
       "    .dataframe tbody tr th {\n",
       "        vertical-align: top;\n",
       "    }\n",
       "\n",
       "    .dataframe thead th {\n",
       "        text-align: right;\n",
       "    }\n",
       "</style>\n",
       "<table border=\"1\" class=\"dataframe\">\n",
       "  <thead>\n",
       "    <tr style=\"text-align: right;\">\n",
       "      <th></th>\n",
       "      <th>Date</th>\n",
       "      <th>Compte</th>\n",
       "      <th>Catégorie</th>\n",
       "      <th>Tags</th>\n",
       "      <th>Montant de dépense</th>\n",
       "      <th>Montant de revenu</th>\n",
       "      <th>Devise</th>\n",
       "      <th>En devise principale</th>\n",
       "      <th>Devise principale</th>\n",
       "      <th>Description</th>\n",
       "    </tr>\n",
       "  </thead>\n",
       "  <tbody>\n",
       "    <tr>\n",
       "      <td>0</td>\n",
       "      <td>17/08/2022</td>\n",
       "      <td>Banque</td>\n",
       "      <td>Gaz</td>\n",
       "      <td>Bonbonne</td>\n",
       "      <td>57,48</td>\n",
       "      <td>0</td>\n",
       "      <td>CAD</td>\n",
       "      <td>43,72</td>\n",
       "      <td>EUR</td>\n",
       "      <td>NaN</td>\n",
       "    </tr>\n",
       "    <tr>\n",
       "      <td>1</td>\n",
       "      <td>17/08/2022</td>\n",
       "      <td>Banque</td>\n",
       "      <td>Transport</td>\n",
       "      <td>essence</td>\n",
       "      <td>150,00</td>\n",
       "      <td>0</td>\n",
       "      <td>CAD</td>\n",
       "      <td>114,09</td>\n",
       "      <td>EUR</td>\n",
       "      <td>NaN</td>\n",
       "    </tr>\n",
       "    <tr>\n",
       "      <td>2</td>\n",
       "      <td>17/08/2022</td>\n",
       "      <td>Banque</td>\n",
       "      <td>Alimentation</td>\n",
       "      <td>courses alimentaires</td>\n",
       "      <td>34,64</td>\n",
       "      <td>0</td>\n",
       "      <td>CAD</td>\n",
       "      <td>26,35</td>\n",
       "      <td>EUR</td>\n",
       "      <td>NaN</td>\n",
       "    </tr>\n",
       "    <tr>\n",
       "      <td>3</td>\n",
       "      <td>17/08/2022</td>\n",
       "      <td>Banque</td>\n",
       "      <td>Équipement</td>\n",
       "      <td>Canadian Tire</td>\n",
       "      <td>28,15</td>\n",
       "      <td>0</td>\n",
       "      <td>CAD</td>\n",
       "      <td>21,41</td>\n",
       "      <td>EUR</td>\n",
       "      <td>NaN</td>\n",
       "    </tr>\n",
       "    <tr>\n",
       "      <td>4</td>\n",
       "      <td>17/08/2022</td>\n",
       "      <td>Banque</td>\n",
       "      <td>Gaz</td>\n",
       "      <td>Remplissage</td>\n",
       "      <td>31,60</td>\n",
       "      <td>0</td>\n",
       "      <td>CAD</td>\n",
       "      <td>24,03</td>\n",
       "      <td>EUR</td>\n",
       "      <td>NaN</td>\n",
       "    </tr>\n",
       "  </tbody>\n",
       "</table>\n",
       "</div>"
      ],
      "text/plain": [
       "         Date  Compte     Catégorie                  Tags Montant de dépense  \\\n",
       "0  17/08/2022  Banque           Gaz              Bonbonne              57,48   \n",
       "1  17/08/2022  Banque     Transport               essence             150,00   \n",
       "2  17/08/2022  Banque  Alimentation  courses alimentaires              34,64   \n",
       "3  17/08/2022  Banque    Équipement         Canadian Tire              28,15   \n",
       "4  17/08/2022  Banque           Gaz           Remplissage              31,60   \n",
       "\n",
       "   Montant de revenu Devise En devise principale Devise principale  \\\n",
       "0                  0    CAD                43,72               EUR   \n",
       "1                  0    CAD               114,09               EUR   \n",
       "2                  0    CAD                26,35               EUR   \n",
       "3                  0    CAD                21,41               EUR   \n",
       "4                  0    CAD                24,03               EUR   \n",
       "\n",
       "   Description  \n",
       "0          NaN  \n",
       "1          NaN  \n",
       "2          NaN  \n",
       "3          NaN  \n",
       "4          NaN  "
      ]
     },
     "execution_count": 309,
     "metadata": {},
     "output_type": "execute_result"
    }
   ],
   "source": [
    "depenses.head(5)"
   ]
  },
  {
   "cell_type": "code",
   "execution_count": 310,
   "metadata": {},
   "outputs": [
    {
     "data": {
      "text/html": [
       "<div>\n",
       "<style scoped>\n",
       "    .dataframe tbody tr th:only-of-type {\n",
       "        vertical-align: middle;\n",
       "    }\n",
       "\n",
       "    .dataframe tbody tr th {\n",
       "        vertical-align: top;\n",
       "    }\n",
       "\n",
       "    .dataframe thead th {\n",
       "        text-align: right;\n",
       "    }\n",
       "</style>\n",
       "<table border=\"1\" class=\"dataframe\">\n",
       "  <thead>\n",
       "    <tr style=\"text-align: right;\">\n",
       "      <th></th>\n",
       "      <th>Date</th>\n",
       "      <th>Compte</th>\n",
       "      <th>Catégorie</th>\n",
       "      <th>Tags</th>\n",
       "      <th>Montant de dépense</th>\n",
       "      <th>Montant de revenu</th>\n",
       "      <th>Devise</th>\n",
       "      <th>En devise principale</th>\n",
       "      <th>Devise principale</th>\n",
       "      <th>Description</th>\n",
       "    </tr>\n",
       "  </thead>\n",
       "  <tbody>\n",
       "    <tr>\n",
       "      <td>271</td>\n",
       "      <td>13/12/2022</td>\n",
       "      <td>Banque</td>\n",
       "      <td>Transport</td>\n",
       "      <td>métro</td>\n",
       "      <td>5,50</td>\n",
       "      <td>0</td>\n",
       "      <td>USD</td>\n",
       "      <td>5,17</td>\n",
       "      <td>EUR</td>\n",
       "      <td>NaN</td>\n",
       "    </tr>\n",
       "    <tr>\n",
       "      <td>272</td>\n",
       "      <td>14/12/2022</td>\n",
       "      <td>Banque</td>\n",
       "      <td>Loisirs</td>\n",
       "      <td>Spectacle</td>\n",
       "      <td>283,70</td>\n",
       "      <td>0</td>\n",
       "      <td>USD</td>\n",
       "      <td>265,60</td>\n",
       "      <td>EUR</td>\n",
       "      <td>NaN</td>\n",
       "    </tr>\n",
       "    <tr>\n",
       "      <td>273</td>\n",
       "      <td>14/12/2022</td>\n",
       "      <td>Banque</td>\n",
       "      <td>Alimentation</td>\n",
       "      <td>café et thé</td>\n",
       "      <td>32,00</td>\n",
       "      <td>0</td>\n",
       "      <td>USD</td>\n",
       "      <td>29,96</td>\n",
       "      <td>EUR</td>\n",
       "      <td>NaN</td>\n",
       "    </tr>\n",
       "    <tr>\n",
       "      <td>274</td>\n",
       "      <td>15/12/2022</td>\n",
       "      <td>Banque</td>\n",
       "      <td>Logement</td>\n",
       "      <td>Hôtel</td>\n",
       "      <td>60,00</td>\n",
       "      <td>0</td>\n",
       "      <td>USD</td>\n",
       "      <td>56,44</td>\n",
       "      <td>EUR</td>\n",
       "      <td>NaN</td>\n",
       "    </tr>\n",
       "    <tr>\n",
       "      <td>275</td>\n",
       "      <td>15/12/2022</td>\n",
       "      <td>Banque</td>\n",
       "      <td>Transport</td>\n",
       "      <td>essence</td>\n",
       "      <td>75,00</td>\n",
       "      <td>0</td>\n",
       "      <td>USD</td>\n",
       "      <td>70,55</td>\n",
       "      <td>EUR</td>\n",
       "      <td>NaN</td>\n",
       "    </tr>\n",
       "  </tbody>\n",
       "</table>\n",
       "</div>"
      ],
      "text/plain": [
       "           Date  Compte     Catégorie         Tags Montant de dépense  \\\n",
       "271  13/12/2022  Banque     Transport        métro               5,50   \n",
       "272  14/12/2022  Banque       Loisirs    Spectacle             283,70   \n",
       "273  14/12/2022  Banque  Alimentation  café et thé              32,00   \n",
       "274  15/12/2022  Banque      Logement        Hôtel              60,00   \n",
       "275  15/12/2022  Banque     Transport      essence              75,00   \n",
       "\n",
       "     Montant de revenu Devise En devise principale Devise principale  \\\n",
       "271                  0    USD                 5,17               EUR   \n",
       "272                  0    USD               265,60               EUR   \n",
       "273                  0    USD                29,96               EUR   \n",
       "274                  0    USD                56,44               EUR   \n",
       "275                  0    USD                70,55               EUR   \n",
       "\n",
       "     Description  \n",
       "271          NaN  \n",
       "272          NaN  \n",
       "273          NaN  \n",
       "274          NaN  \n",
       "275          NaN  "
      ]
     },
     "execution_count": 310,
     "metadata": {},
     "output_type": "execute_result"
    }
   ],
   "source": [
    "depenses.tail(5)"
   ]
  },
  {
   "cell_type": "code",
   "execution_count": 311,
   "metadata": {},
   "outputs": [
    {
     "data": {
      "text/plain": [
       "(276, 10)"
      ]
     },
     "execution_count": 311,
     "metadata": {},
     "output_type": "execute_result"
    }
   ],
   "source": [
    "depenses.shape"
   ]
  },
  {
   "cell_type": "code",
   "execution_count": 312,
   "metadata": {},
   "outputs": [
    {
     "data": {
      "text/html": [
       "<div>\n",
       "<style scoped>\n",
       "    .dataframe tbody tr th:only-of-type {\n",
       "        vertical-align: middle;\n",
       "    }\n",
       "\n",
       "    .dataframe tbody tr th {\n",
       "        vertical-align: top;\n",
       "    }\n",
       "\n",
       "    .dataframe thead th {\n",
       "        text-align: right;\n",
       "    }\n",
       "</style>\n",
       "<table border=\"1\" class=\"dataframe\">\n",
       "  <thead>\n",
       "    <tr style=\"text-align: right;\">\n",
       "      <th></th>\n",
       "      <th>Montant de revenu</th>\n",
       "      <th>Description</th>\n",
       "    </tr>\n",
       "  </thead>\n",
       "  <tbody>\n",
       "    <tr>\n",
       "      <td>count</td>\n",
       "      <td>276.0</td>\n",
       "      <td>0.0</td>\n",
       "    </tr>\n",
       "    <tr>\n",
       "      <td>mean</td>\n",
       "      <td>0.0</td>\n",
       "      <td>NaN</td>\n",
       "    </tr>\n",
       "    <tr>\n",
       "      <td>std</td>\n",
       "      <td>0.0</td>\n",
       "      <td>NaN</td>\n",
       "    </tr>\n",
       "    <tr>\n",
       "      <td>min</td>\n",
       "      <td>0.0</td>\n",
       "      <td>NaN</td>\n",
       "    </tr>\n",
       "    <tr>\n",
       "      <td>25%</td>\n",
       "      <td>0.0</td>\n",
       "      <td>NaN</td>\n",
       "    </tr>\n",
       "    <tr>\n",
       "      <td>50%</td>\n",
       "      <td>0.0</td>\n",
       "      <td>NaN</td>\n",
       "    </tr>\n",
       "    <tr>\n",
       "      <td>75%</td>\n",
       "      <td>0.0</td>\n",
       "      <td>NaN</td>\n",
       "    </tr>\n",
       "    <tr>\n",
       "      <td>max</td>\n",
       "      <td>0.0</td>\n",
       "      <td>NaN</td>\n",
       "    </tr>\n",
       "  </tbody>\n",
       "</table>\n",
       "</div>"
      ],
      "text/plain": [
       "       Montant de revenu  Description\n",
       "count              276.0          0.0\n",
       "mean                 0.0          NaN\n",
       "std                  0.0          NaN\n",
       "min                  0.0          NaN\n",
       "25%                  0.0          NaN\n",
       "50%                  0.0          NaN\n",
       "75%                  0.0          NaN\n",
       "max                  0.0          NaN"
      ]
     },
     "execution_count": 312,
     "metadata": {},
     "output_type": "execute_result"
    }
   ],
   "source": [
    "depenses.describe()\n",
    "# Pour les mesures (colonnes numériques)"
   ]
  },
  {
   "cell_type": "code",
   "execution_count": 313,
   "metadata": {},
   "outputs": [
    {
     "name": "stdout",
     "output_type": "stream",
     "text": [
      "<class 'pandas.core.frame.DataFrame'>\n",
      "RangeIndex: 276 entries, 0 to 275\n",
      "Data columns (total 10 columns):\n",
      "Date                    276 non-null object\n",
      "Compte                  276 non-null object\n",
      "Catégorie               276 non-null object\n",
      "Tags                    275 non-null object\n",
      "Montant de dépense      276 non-null object\n",
      "Montant de revenu       276 non-null int64\n",
      "Devise                  276 non-null object\n",
      "En devise principale    276 non-null object\n",
      "Devise principale       276 non-null object\n",
      "Description             0 non-null float64\n",
      "dtypes: float64(1), int64(1), object(8)\n",
      "memory usage: 21.7+ KB\n"
     ]
    }
   ],
   "source": [
    "depenses.info()"
   ]
  },
  {
   "cell_type": "code",
   "execution_count": 314,
   "metadata": {},
   "outputs": [
    {
     "data": {
      "text/plain": [
       "Date                     object\n",
       "Compte                   object\n",
       "Catégorie                object\n",
       "Tags                     object\n",
       "Montant de dépense       object\n",
       "Montant de revenu         int64\n",
       "Devise                   object\n",
       "En devise principale     object\n",
       "Devise principale        object\n",
       "Description             float64\n",
       "dtype: object"
      ]
     },
     "execution_count": 314,
     "metadata": {},
     "output_type": "execute_result"
    }
   ],
   "source": [
    "depenses.dtypes"
   ]
  },
  {
   "cell_type": "code",
   "execution_count": 315,
   "metadata": {},
   "outputs": [
    {
     "data": {
      "text/plain": [
       "Index(['Date', 'Compte', 'Catégorie', 'Tags', 'Montant de dépense',\n",
       "       'Montant de revenu', 'Devise', 'En devise principale',\n",
       "       'Devise principale', 'Description'],\n",
       "      dtype='object')"
      ]
     },
     "execution_count": 315,
     "metadata": {},
     "output_type": "execute_result"
    }
   ],
   "source": [
    "depenses.columns"
   ]
  },
  {
   "cell_type": "code",
   "execution_count": 316,
   "metadata": {},
   "outputs": [
    {
     "data": {
      "text/plain": [
       "array(['Gaz', 'Transport', 'Alimentation', 'Équipement', 'Logement',\n",
       "       'Loisirs', 'Camping', 'Santé et soins personnels', 'Van', 'Visa',\n",
       "       'Frais bancaire', 'Vêtements et chaussures'], dtype=object)"
      ]
     },
     "execution_count": 316,
     "metadata": {},
     "output_type": "execute_result"
    }
   ],
   "source": [
    "depenses['Catégorie'].unique()\n",
    "#retourne les valeurs uniques d'une colonne"
   ]
  },
  {
   "cell_type": "code",
   "execution_count": 317,
   "metadata": {},
   "outputs": [
    {
     "data": {
      "text/plain": [
       "12"
      ]
     },
     "execution_count": 317,
     "metadata": {},
     "output_type": "execute_result"
    }
   ],
   "source": [
    "depenses.Catégorie.nunique()\n",
    "#retourne le nb de valeurs uniques d'une colonne"
   ]
  },
  {
   "cell_type": "code",
   "execution_count": 318,
   "metadata": {},
   "outputs": [
    {
     "data": {
      "text/plain": [
       "Alimentation                 93\n",
       "Transport                    81\n",
       "Logement                     42\n",
       "Loisirs                      18\n",
       "Santé et soins personnels    15\n",
       "Équipement                   11\n",
       "Van                           7\n",
       "Gaz                           3\n",
       "Frais bancaire                2\n",
       "Visa                          2\n",
       "Vêtements et chaussures       1\n",
       "Camping                       1\n",
       "Name: Catégorie, dtype: int64"
      ]
     },
     "execution_count": 318,
     "metadata": {},
     "output_type": "execute_result"
    }
   ],
   "source": [
    "depenses.Catégorie.value_counts()\n",
    "#retourne le nb d'occurrences pour chaque valeur d'une colonne"
   ]
  },
  {
   "cell_type": "markdown",
   "metadata": {},
   "source": [
    "# Nettoyage des données"
   ]
  },
  {
   "cell_type": "markdown",
   "metadata": {},
   "source": [
    "- **Valeurs manquantes**: Il est important de vérifier s'il y a des valeurs manquantes dans les données et de décider comment gérer ces valeurs manquantes. Il est possible de les remplacer par une valeur spécifique, de les ignorer ou de supprimer les lignes ou les colonnes qui contiennent des valeurs manquantes.\n",
    "- **Doublons**: Il est important de vérifier s'il y a des doublons dans les données et de décider comment gérer ces doublons. Il est possible de les ignorer ou de les supprimer.\n",
    "- **Incorrect ou erroné**: Il est important de vérifier si il y a des données incorrectes ou erronées dans les données et de décider comment gérer ces données. Il est possible de les corriger ou de les supprimer.\n",
    "- **Format des données**: Il est important de vérifier si les données sont dans le format attendu et de les convertir si nécessaire.\n",
    "- **Normalisation des données** : Il est important de vérifier que les données sont dans un format normalisé pour faciliter l'analyse."
   ]
  },
  {
   "cell_type": "markdown",
   "metadata": {},
   "source": [
    "### Suppression des valeurs manquantes"
   ]
  },
  {
   "cell_type": "code",
   "execution_count": 319,
   "metadata": {},
   "outputs": [
    {
     "data": {
      "text/html": [
       "<div>\n",
       "<style scoped>\n",
       "    .dataframe tbody tr th:only-of-type {\n",
       "        vertical-align: middle;\n",
       "    }\n",
       "\n",
       "    .dataframe tbody tr th {\n",
       "        vertical-align: top;\n",
       "    }\n",
       "\n",
       "    .dataframe thead th {\n",
       "        text-align: right;\n",
       "    }\n",
       "</style>\n",
       "<table border=\"1\" class=\"dataframe\">\n",
       "  <thead>\n",
       "    <tr style=\"text-align: right;\">\n",
       "      <th></th>\n",
       "      <th>Date</th>\n",
       "      <th>Compte</th>\n",
       "      <th>Catégorie</th>\n",
       "      <th>Tags</th>\n",
       "      <th>Montant de dépense</th>\n",
       "      <th>Montant de revenu</th>\n",
       "      <th>Devise</th>\n",
       "      <th>En devise principale</th>\n",
       "      <th>Devise principale</th>\n",
       "      <th>Description</th>\n",
       "    </tr>\n",
       "  </thead>\n",
       "  <tbody>\n",
       "    <tr>\n",
       "      <td>0</td>\n",
       "      <td>False</td>\n",
       "      <td>False</td>\n",
       "      <td>False</td>\n",
       "      <td>False</td>\n",
       "      <td>False</td>\n",
       "      <td>False</td>\n",
       "      <td>False</td>\n",
       "      <td>False</td>\n",
       "      <td>False</td>\n",
       "      <td>True</td>\n",
       "    </tr>\n",
       "    <tr>\n",
       "      <td>1</td>\n",
       "      <td>False</td>\n",
       "      <td>False</td>\n",
       "      <td>False</td>\n",
       "      <td>False</td>\n",
       "      <td>False</td>\n",
       "      <td>False</td>\n",
       "      <td>False</td>\n",
       "      <td>False</td>\n",
       "      <td>False</td>\n",
       "      <td>True</td>\n",
       "    </tr>\n",
       "    <tr>\n",
       "      <td>2</td>\n",
       "      <td>False</td>\n",
       "      <td>False</td>\n",
       "      <td>False</td>\n",
       "      <td>False</td>\n",
       "      <td>False</td>\n",
       "      <td>False</td>\n",
       "      <td>False</td>\n",
       "      <td>False</td>\n",
       "      <td>False</td>\n",
       "      <td>True</td>\n",
       "    </tr>\n",
       "    <tr>\n",
       "      <td>3</td>\n",
       "      <td>False</td>\n",
       "      <td>False</td>\n",
       "      <td>False</td>\n",
       "      <td>False</td>\n",
       "      <td>False</td>\n",
       "      <td>False</td>\n",
       "      <td>False</td>\n",
       "      <td>False</td>\n",
       "      <td>False</td>\n",
       "      <td>True</td>\n",
       "    </tr>\n",
       "    <tr>\n",
       "      <td>4</td>\n",
       "      <td>False</td>\n",
       "      <td>False</td>\n",
       "      <td>False</td>\n",
       "      <td>False</td>\n",
       "      <td>False</td>\n",
       "      <td>False</td>\n",
       "      <td>False</td>\n",
       "      <td>False</td>\n",
       "      <td>False</td>\n",
       "      <td>True</td>\n",
       "    </tr>\n",
       "    <tr>\n",
       "      <td>...</td>\n",
       "      <td>...</td>\n",
       "      <td>...</td>\n",
       "      <td>...</td>\n",
       "      <td>...</td>\n",
       "      <td>...</td>\n",
       "      <td>...</td>\n",
       "      <td>...</td>\n",
       "      <td>...</td>\n",
       "      <td>...</td>\n",
       "      <td>...</td>\n",
       "    </tr>\n",
       "    <tr>\n",
       "      <td>271</td>\n",
       "      <td>False</td>\n",
       "      <td>False</td>\n",
       "      <td>False</td>\n",
       "      <td>False</td>\n",
       "      <td>False</td>\n",
       "      <td>False</td>\n",
       "      <td>False</td>\n",
       "      <td>False</td>\n",
       "      <td>False</td>\n",
       "      <td>True</td>\n",
       "    </tr>\n",
       "    <tr>\n",
       "      <td>272</td>\n",
       "      <td>False</td>\n",
       "      <td>False</td>\n",
       "      <td>False</td>\n",
       "      <td>False</td>\n",
       "      <td>False</td>\n",
       "      <td>False</td>\n",
       "      <td>False</td>\n",
       "      <td>False</td>\n",
       "      <td>False</td>\n",
       "      <td>True</td>\n",
       "    </tr>\n",
       "    <tr>\n",
       "      <td>273</td>\n",
       "      <td>False</td>\n",
       "      <td>False</td>\n",
       "      <td>False</td>\n",
       "      <td>False</td>\n",
       "      <td>False</td>\n",
       "      <td>False</td>\n",
       "      <td>False</td>\n",
       "      <td>False</td>\n",
       "      <td>False</td>\n",
       "      <td>True</td>\n",
       "    </tr>\n",
       "    <tr>\n",
       "      <td>274</td>\n",
       "      <td>False</td>\n",
       "      <td>False</td>\n",
       "      <td>False</td>\n",
       "      <td>False</td>\n",
       "      <td>False</td>\n",
       "      <td>False</td>\n",
       "      <td>False</td>\n",
       "      <td>False</td>\n",
       "      <td>False</td>\n",
       "      <td>True</td>\n",
       "    </tr>\n",
       "    <tr>\n",
       "      <td>275</td>\n",
       "      <td>False</td>\n",
       "      <td>False</td>\n",
       "      <td>False</td>\n",
       "      <td>False</td>\n",
       "      <td>False</td>\n",
       "      <td>False</td>\n",
       "      <td>False</td>\n",
       "      <td>False</td>\n",
       "      <td>False</td>\n",
       "      <td>True</td>\n",
       "    </tr>\n",
       "  </tbody>\n",
       "</table>\n",
       "<p>276 rows × 10 columns</p>\n",
       "</div>"
      ],
      "text/plain": [
       "      Date  Compte  Catégorie   Tags  Montant de dépense  Montant de revenu  \\\n",
       "0    False   False      False  False               False              False   \n",
       "1    False   False      False  False               False              False   \n",
       "2    False   False      False  False               False              False   \n",
       "3    False   False      False  False               False              False   \n",
       "4    False   False      False  False               False              False   \n",
       "..     ...     ...        ...    ...                 ...                ...   \n",
       "271  False   False      False  False               False              False   \n",
       "272  False   False      False  False               False              False   \n",
       "273  False   False      False  False               False              False   \n",
       "274  False   False      False  False               False              False   \n",
       "275  False   False      False  False               False              False   \n",
       "\n",
       "     Devise  En devise principale  Devise principale  Description  \n",
       "0     False                 False              False         True  \n",
       "1     False                 False              False         True  \n",
       "2     False                 False              False         True  \n",
       "3     False                 False              False         True  \n",
       "4     False                 False              False         True  \n",
       "..      ...                   ...                ...          ...  \n",
       "271   False                 False              False         True  \n",
       "272   False                 False              False         True  \n",
       "273   False                 False              False         True  \n",
       "274   False                 False              False         True  \n",
       "275   False                 False              False         True  \n",
       "\n",
       "[276 rows x 10 columns]"
      ]
     },
     "execution_count": 319,
     "metadata": {},
     "output_type": "execute_result"
    }
   ],
   "source": [
    "depenses.isnull()\n",
    "# Détection des valeurs manquantes"
   ]
  },
  {
   "cell_type": "code",
   "execution_count": 320,
   "metadata": {},
   "outputs": [
    {
     "data": {
      "text/plain": [
       "(276, 10)"
      ]
     },
     "execution_count": 320,
     "metadata": {},
     "output_type": "execute_result"
    }
   ],
   "source": [
    "depenses.dropna(subset=['Montant de dépense'], inplace=True)\n",
    "# L'argument subset permet de spécifier des colonnes pour lesquelles\n",
    "# on souhaite supprimer les lignes contenant des valeurs manquantes.\n",
    "#\n",
    "# L'argument inplace=True permet de faire les modifications directement \n",
    "# sur l'objet DataFrame et non sur une copie\n",
    "depenses.shape"
   ]
  },
  {
   "cell_type": "code",
   "execution_count": 321,
   "metadata": {},
   "outputs": [
    {
     "data": {
      "text/plain": [
       "0      False\n",
       "1      False\n",
       "2      False\n",
       "3      False\n",
       "4      False\n",
       "       ...  \n",
       "271    False\n",
       "272    False\n",
       "273    False\n",
       "274    False\n",
       "275    False\n",
       "Name: Tags, Length: 276, dtype: bool"
      ]
     },
     "execution_count": 321,
     "metadata": {},
     "output_type": "execute_result"
    }
   ],
   "source": [
    "depenses['Tags'].isnull()\n",
    "# Détection des valeurs manquantes dans une colonne spécifiée"
   ]
  },
  {
   "cell_type": "code",
   "execution_count": 322,
   "metadata": {},
   "outputs": [
    {
     "data": {
      "text/plain": [
       "1"
      ]
     },
     "execution_count": 322,
     "metadata": {},
     "output_type": "execute_result"
    }
   ],
   "source": [
    "nanTags_count = depenses['Tags'].isnull().sum()\n",
    "nanTags_count"
   ]
  },
  {
   "cell_type": "code",
   "execution_count": 323,
   "metadata": {},
   "outputs": [
    {
     "data": {
      "text/html": [
       "<div>\n",
       "<style scoped>\n",
       "    .dataframe tbody tr th:only-of-type {\n",
       "        vertical-align: middle;\n",
       "    }\n",
       "\n",
       "    .dataframe tbody tr th {\n",
       "        vertical-align: top;\n",
       "    }\n",
       "\n",
       "    .dataframe thead th {\n",
       "        text-align: right;\n",
       "    }\n",
       "</style>\n",
       "<table border=\"1\" class=\"dataframe\">\n",
       "  <thead>\n",
       "    <tr style=\"text-align: right;\">\n",
       "      <th></th>\n",
       "      <th>Date</th>\n",
       "      <th>Compte</th>\n",
       "      <th>Catégorie</th>\n",
       "      <th>Tags</th>\n",
       "      <th>Montant de dépense</th>\n",
       "      <th>Montant de revenu</th>\n",
       "      <th>Devise</th>\n",
       "      <th>En devise principale</th>\n",
       "      <th>Devise principale</th>\n",
       "      <th>Description</th>\n",
       "    </tr>\n",
       "  </thead>\n",
       "  <tbody>\n",
       "    <tr>\n",
       "      <td>213</td>\n",
       "      <td>15/11/2022</td>\n",
       "      <td>Banque</td>\n",
       "      <td>Frais bancaire</td>\n",
       "      <td>NaN</td>\n",
       "      <td>3,25</td>\n",
       "      <td>0</td>\n",
       "      <td>USD</td>\n",
       "      <td>3,14</td>\n",
       "      <td>EUR</td>\n",
       "      <td>NaN</td>\n",
       "    </tr>\n",
       "  </tbody>\n",
       "</table>\n",
       "</div>"
      ],
      "text/plain": [
       "           Date  Compte       Catégorie Tags Montant de dépense  \\\n",
       "213  15/11/2022  Banque  Frais bancaire  NaN               3,25   \n",
       "\n",
       "     Montant de revenu Devise En devise principale Devise principale  \\\n",
       "213                  0    USD                 3,14               EUR   \n",
       "\n",
       "     Description  \n",
       "213          NaN  "
      ]
     },
     "execution_count": 323,
     "metadata": {},
     "output_type": "execute_result"
    }
   ],
   "source": [
    "depenses[depenses['Tags'].isnull()]\n",
    "# Extraction des lignes avec une valeur manquante dans la colonne spécifiée"
   ]
  },
  {
   "cell_type": "markdown",
   "metadata": {},
   "source": [
    "Il est également possible de supprimer les lignes qui contiennent un certain pourcentage de valeurs manquantes en utilisant l'argument **thresh** qui permet de définir un seuil en dessous duquel les lignes seront supprimées.\n",
    "\n",
    "*Exemple: df.dropna(thresh=int(df.shape[0] * .9), axis=0, inplace=True)*"
   ]
  },
  {
   "cell_type": "markdown",
   "metadata": {},
   "source": [
    "#### Sélection de données : différence entre loc() et iloc()"
   ]
  },
  {
   "cell_type": "markdown",
   "metadata": {},
   "source": [
    "- **loc** est utilisé pour sélectionner des données en utilisant les **étiquettes** de lignes et de colonnes. Il permet de sélectionner les données en utilisant les étiquettes de lignes et de colonnes telles qu'elles sont définies dans le DataFrame. Par exemple :\n",
    "    - *df.loc[:, 'col1']*  # sélectionne toutes les lignes de la colonne 'col1'\n",
    "    - *df.loc[:, ['col1', 'col2']]*  # sélectionne toutes les lignes des colonnes 'col1' et 'col2'\n",
    "    - *df.loc[1:3, 'col1']*  # sélectionne les lignes 1 à 3 de la colonne 'col1'\n",
    "    \n",
    "- **iloc** est utilisé pour sélectionner des données en utilisant des **index** de lignes et de colonnes. Il permet de sélectionner les données en utilisant les index numériques des lignes et des colonnes. Par exemple :\n",
    "    - df.iloc[:, 0]  # sélectionne toutes les lignes de la première colonne\n",
    "    - df.iloc[:, [0, 1]]  # sélectionne toutes les lignes des première et deuxième colonnes\n",
    "    - df.iloc[1:3, 0]  # sélectionne les lignes 1 à 3 de la première colonne"
   ]
  },
  {
   "cell_type": "code",
   "execution_count": 324,
   "metadata": {},
   "outputs": [
    {
     "data": {
      "text/html": [
       "<div>\n",
       "<style scoped>\n",
       "    .dataframe tbody tr th:only-of-type {\n",
       "        vertical-align: middle;\n",
       "    }\n",
       "\n",
       "    .dataframe tbody tr th {\n",
       "        vertical-align: top;\n",
       "    }\n",
       "\n",
       "    .dataframe thead th {\n",
       "        text-align: right;\n",
       "    }\n",
       "</style>\n",
       "<table border=\"1\" class=\"dataframe\">\n",
       "  <thead>\n",
       "    <tr style=\"text-align: right;\">\n",
       "      <th></th>\n",
       "      <th>Date</th>\n",
       "      <th>Compte</th>\n",
       "      <th>Catégorie</th>\n",
       "      <th>Tags</th>\n",
       "      <th>Montant de dépense</th>\n",
       "      <th>Montant de revenu</th>\n",
       "      <th>Devise</th>\n",
       "      <th>En devise principale</th>\n",
       "      <th>Devise principale</th>\n",
       "      <th>Description</th>\n",
       "    </tr>\n",
       "  </thead>\n",
       "  <tbody>\n",
       "    <tr>\n",
       "      <td>213</td>\n",
       "      <td>15/11/2022</td>\n",
       "      <td>Banque</td>\n",
       "      <td>Frais bancaire</td>\n",
       "      <td>NaN</td>\n",
       "      <td>3,25</td>\n",
       "      <td>0</td>\n",
       "      <td>USD</td>\n",
       "      <td>3,14</td>\n",
       "      <td>EUR</td>\n",
       "      <td>NaN</td>\n",
       "    </tr>\n",
       "  </tbody>\n",
       "</table>\n",
       "</div>"
      ],
      "text/plain": [
       "           Date  Compte       Catégorie Tags Montant de dépense  \\\n",
       "213  15/11/2022  Banque  Frais bancaire  NaN               3,25   \n",
       "\n",
       "     Montant de revenu Devise En devise principale Devise principale  \\\n",
       "213                  0    USD                 3,14               EUR   \n",
       "\n",
       "     Description  \n",
       "213          NaN  "
      ]
     },
     "execution_count": 324,
     "metadata": {},
     "output_type": "execute_result"
    }
   ],
   "source": [
    "nanTags = depenses.loc[depenses.Tags.isnull()]\n",
    "nanTags"
   ]
  },
  {
   "cell_type": "code",
   "execution_count": 325,
   "metadata": {},
   "outputs": [
    {
     "data": {
      "text/plain": [
       "Date                        15/11/2022\n",
       "Compte                          Banque\n",
       "Catégorie               Frais bancaire\n",
       "Tags                               NaN\n",
       "Montant de dépense                3,25\n",
       "Montant de revenu                    0\n",
       "Devise                             USD\n",
       "En devise principale              3,14\n",
       "Devise principale                  EUR\n",
       "Description                        NaN\n",
       "Name: 213, dtype: object"
      ]
     },
     "execution_count": 325,
     "metadata": {},
     "output_type": "execute_result"
    }
   ],
   "source": [
    "row213 = depenses.iloc[213, :]\n",
    "row213"
   ]
  },
  {
   "cell_type": "code",
   "execution_count": 326,
   "metadata": {},
   "outputs": [
    {
     "data": {
      "text/plain": [
       "nan"
      ]
     },
     "execution_count": 326,
     "metadata": {},
     "output_type": "execute_result"
    }
   ],
   "source": [
    "depenses.at[213,'Tags']"
   ]
  },
  {
   "cell_type": "code",
   "execution_count": 327,
   "metadata": {},
   "outputs": [
    {
     "data": {
      "text/plain": [
       "'Frais bancaire'"
      ]
     },
     "execution_count": 327,
     "metadata": {},
     "output_type": "execute_result"
    }
   ],
   "source": [
    "depenses.iat[213,2]"
   ]
  },
  {
   "cell_type": "markdown",
   "metadata": {},
   "source": [
    "### Suppression des doublons"
   ]
  },
  {
   "cell_type": "code",
   "execution_count": 328,
   "metadata": {},
   "outputs": [
    {
     "data": {
      "text/html": [
       "<div>\n",
       "<style scoped>\n",
       "    .dataframe tbody tr th:only-of-type {\n",
       "        vertical-align: middle;\n",
       "    }\n",
       "\n",
       "    .dataframe tbody tr th {\n",
       "        vertical-align: top;\n",
       "    }\n",
       "\n",
       "    .dataframe thead th {\n",
       "        text-align: right;\n",
       "    }\n",
       "</style>\n",
       "<table border=\"1\" class=\"dataframe\">\n",
       "  <thead>\n",
       "    <tr style=\"text-align: right;\">\n",
       "      <th></th>\n",
       "      <th>Date</th>\n",
       "      <th>Compte</th>\n",
       "      <th>Catégorie</th>\n",
       "      <th>Tags</th>\n",
       "      <th>Montant de dépense</th>\n",
       "      <th>Montant de revenu</th>\n",
       "      <th>Devise</th>\n",
       "      <th>En devise principale</th>\n",
       "      <th>Devise principale</th>\n",
       "      <th>Description</th>\n",
       "    </tr>\n",
       "  </thead>\n",
       "  <tbody>\n",
       "    <tr>\n",
       "      <td>0</td>\n",
       "      <td>17/08/2022</td>\n",
       "      <td>Banque</td>\n",
       "      <td>Gaz</td>\n",
       "      <td>Bonbonne</td>\n",
       "      <td>57,48</td>\n",
       "      <td>0</td>\n",
       "      <td>CAD</td>\n",
       "      <td>43,72</td>\n",
       "      <td>EUR</td>\n",
       "      <td>NaN</td>\n",
       "    </tr>\n",
       "    <tr>\n",
       "      <td>1</td>\n",
       "      <td>17/08/2022</td>\n",
       "      <td>Banque</td>\n",
       "      <td>Transport</td>\n",
       "      <td>essence</td>\n",
       "      <td>150,00</td>\n",
       "      <td>0</td>\n",
       "      <td>CAD</td>\n",
       "      <td>114,09</td>\n",
       "      <td>EUR</td>\n",
       "      <td>NaN</td>\n",
       "    </tr>\n",
       "    <tr>\n",
       "      <td>2</td>\n",
       "      <td>17/08/2022</td>\n",
       "      <td>Banque</td>\n",
       "      <td>Alimentation</td>\n",
       "      <td>courses alimentaires</td>\n",
       "      <td>34,64</td>\n",
       "      <td>0</td>\n",
       "      <td>CAD</td>\n",
       "      <td>26,35</td>\n",
       "      <td>EUR</td>\n",
       "      <td>NaN</td>\n",
       "    </tr>\n",
       "    <tr>\n",
       "      <td>3</td>\n",
       "      <td>17/08/2022</td>\n",
       "      <td>Banque</td>\n",
       "      <td>Équipement</td>\n",
       "      <td>Canadian Tire</td>\n",
       "      <td>28,15</td>\n",
       "      <td>0</td>\n",
       "      <td>CAD</td>\n",
       "      <td>21,41</td>\n",
       "      <td>EUR</td>\n",
       "      <td>NaN</td>\n",
       "    </tr>\n",
       "    <tr>\n",
       "      <td>4</td>\n",
       "      <td>17/08/2022</td>\n",
       "      <td>Banque</td>\n",
       "      <td>Gaz</td>\n",
       "      <td>Remplissage</td>\n",
       "      <td>31,60</td>\n",
       "      <td>0</td>\n",
       "      <td>CAD</td>\n",
       "      <td>24,03</td>\n",
       "      <td>EUR</td>\n",
       "      <td>NaN</td>\n",
       "    </tr>\n",
       "    <tr>\n",
       "      <td>...</td>\n",
       "      <td>...</td>\n",
       "      <td>...</td>\n",
       "      <td>...</td>\n",
       "      <td>...</td>\n",
       "      <td>...</td>\n",
       "      <td>...</td>\n",
       "      <td>...</td>\n",
       "      <td>...</td>\n",
       "      <td>...</td>\n",
       "      <td>...</td>\n",
       "    </tr>\n",
       "    <tr>\n",
       "      <td>270</td>\n",
       "      <td>13/12/2022</td>\n",
       "      <td>Banque</td>\n",
       "      <td>Transport</td>\n",
       "      <td>péage</td>\n",
       "      <td>16,00</td>\n",
       "      <td>0</td>\n",
       "      <td>USD</td>\n",
       "      <td>15,05</td>\n",
       "      <td>EUR</td>\n",
       "      <td>NaN</td>\n",
       "    </tr>\n",
       "    <tr>\n",
       "      <td>272</td>\n",
       "      <td>14/12/2022</td>\n",
       "      <td>Banque</td>\n",
       "      <td>Loisirs</td>\n",
       "      <td>Spectacle</td>\n",
       "      <td>283,70</td>\n",
       "      <td>0</td>\n",
       "      <td>USD</td>\n",
       "      <td>265,60</td>\n",
       "      <td>EUR</td>\n",
       "      <td>NaN</td>\n",
       "    </tr>\n",
       "    <tr>\n",
       "      <td>273</td>\n",
       "      <td>14/12/2022</td>\n",
       "      <td>Banque</td>\n",
       "      <td>Alimentation</td>\n",
       "      <td>café et thé</td>\n",
       "      <td>32,00</td>\n",
       "      <td>0</td>\n",
       "      <td>USD</td>\n",
       "      <td>29,96</td>\n",
       "      <td>EUR</td>\n",
       "      <td>NaN</td>\n",
       "    </tr>\n",
       "    <tr>\n",
       "      <td>274</td>\n",
       "      <td>15/12/2022</td>\n",
       "      <td>Banque</td>\n",
       "      <td>Logement</td>\n",
       "      <td>Hôtel</td>\n",
       "      <td>60,00</td>\n",
       "      <td>0</td>\n",
       "      <td>USD</td>\n",
       "      <td>56,44</td>\n",
       "      <td>EUR</td>\n",
       "      <td>NaN</td>\n",
       "    </tr>\n",
       "    <tr>\n",
       "      <td>275</td>\n",
       "      <td>15/12/2022</td>\n",
       "      <td>Banque</td>\n",
       "      <td>Transport</td>\n",
       "      <td>essence</td>\n",
       "      <td>75,00</td>\n",
       "      <td>0</td>\n",
       "      <td>USD</td>\n",
       "      <td>70,55</td>\n",
       "      <td>EUR</td>\n",
       "      <td>NaN</td>\n",
       "    </tr>\n",
       "  </tbody>\n",
       "</table>\n",
       "<p>275 rows × 10 columns</p>\n",
       "</div>"
      ],
      "text/plain": [
       "           Date  Compte     Catégorie                  Tags  \\\n",
       "0    17/08/2022  Banque           Gaz              Bonbonne   \n",
       "1    17/08/2022  Banque     Transport               essence   \n",
       "2    17/08/2022  Banque  Alimentation  courses alimentaires   \n",
       "3    17/08/2022  Banque    Équipement         Canadian Tire   \n",
       "4    17/08/2022  Banque           Gaz           Remplissage   \n",
       "..          ...     ...           ...                   ...   \n",
       "270  13/12/2022  Banque     Transport                 péage   \n",
       "272  14/12/2022  Banque       Loisirs             Spectacle   \n",
       "273  14/12/2022  Banque  Alimentation           café et thé   \n",
       "274  15/12/2022  Banque      Logement                 Hôtel   \n",
       "275  15/12/2022  Banque     Transport               essence   \n",
       "\n",
       "    Montant de dépense  Montant de revenu Devise En devise principale  \\\n",
       "0                57,48                  0    CAD                43,72   \n",
       "1               150,00                  0    CAD               114,09   \n",
       "2                34,64                  0    CAD                26,35   \n",
       "3                28,15                  0    CAD                21,41   \n",
       "4                31,60                  0    CAD                24,03   \n",
       "..                 ...                ...    ...                  ...   \n",
       "270              16,00                  0    USD                15,05   \n",
       "272             283,70                  0    USD               265,60   \n",
       "273              32,00                  0    USD                29,96   \n",
       "274              60,00                  0    USD                56,44   \n",
       "275              75,00                  0    USD                70,55   \n",
       "\n",
       "    Devise principale  Description  \n",
       "0                 EUR          NaN  \n",
       "1                 EUR          NaN  \n",
       "2                 EUR          NaN  \n",
       "3                 EUR          NaN  \n",
       "4                 EUR          NaN  \n",
       "..                ...          ...  \n",
       "270               EUR          NaN  \n",
       "272               EUR          NaN  \n",
       "273               EUR          NaN  \n",
       "274               EUR          NaN  \n",
       "275               EUR          NaN  \n",
       "\n",
       "[275 rows x 10 columns]"
      ]
     },
     "execution_count": 328,
     "metadata": {},
     "output_type": "execute_result"
    }
   ],
   "source": [
    "depenses.drop_duplicates()"
   ]
  },
  {
   "cell_type": "markdown",
   "metadata": {},
   "source": [
    "### Suppression et renommage des colonnes"
   ]
  },
  {
   "cell_type": "code",
   "execution_count": 329,
   "metadata": {},
   "outputs": [],
   "source": [
    "depenses.drop('Compte', axis=1, inplace=True)"
   ]
  },
  {
   "cell_type": "markdown",
   "metadata": {},
   "source": [
    "Notez que la méthode **drop()** a l'avantage de pouvoir supprimer également les lignes et de spécifier l'axe (colonnes/lignes) sur lequel s'applique la suppression, par défaut c'est l'axe 0 (lignes).\n",
    "\n",
    "*Exemple: df.drop([1, 3], inplace=True) permet de supprimer les lignes avec l'index 1 et 3*"
   ]
  },
  {
   "cell_type": "code",
   "execution_count": 330,
   "metadata": {},
   "outputs": [],
   "source": [
    "del depenses['Montant de revenu'], depenses['Devise principale']"
   ]
  },
  {
   "cell_type": "code",
   "execution_count": 331,
   "metadata": {},
   "outputs": [
    {
     "data": {
      "text/plain": [
       "0     NaN\n",
       "1     NaN\n",
       "2     NaN\n",
       "3     NaN\n",
       "4     NaN\n",
       "       ..\n",
       "271   NaN\n",
       "272   NaN\n",
       "273   NaN\n",
       "274   NaN\n",
       "275   NaN\n",
       "Name: Description, Length: 276, dtype: float64"
      ]
     },
     "execution_count": 331,
     "metadata": {},
     "output_type": "execute_result"
    }
   ],
   "source": [
    "depenses.pop('Description')"
   ]
  },
  {
   "cell_type": "code",
   "execution_count": 332,
   "metadata": {},
   "outputs": [
    {
     "data": {
      "text/html": [
       "<div>\n",
       "<style scoped>\n",
       "    .dataframe tbody tr th:only-of-type {\n",
       "        vertical-align: middle;\n",
       "    }\n",
       "\n",
       "    .dataframe tbody tr th {\n",
       "        vertical-align: top;\n",
       "    }\n",
       "\n",
       "    .dataframe thead th {\n",
       "        text-align: right;\n",
       "    }\n",
       "</style>\n",
       "<table border=\"1\" class=\"dataframe\">\n",
       "  <thead>\n",
       "    <tr style=\"text-align: right;\">\n",
       "      <th></th>\n",
       "      <th>Date</th>\n",
       "      <th>Catégorie</th>\n",
       "      <th>Tags</th>\n",
       "      <th>Montant de dépense</th>\n",
       "      <th>Devise</th>\n",
       "      <th>En devise principale</th>\n",
       "    </tr>\n",
       "  </thead>\n",
       "  <tbody>\n",
       "    <tr>\n",
       "      <td>0</td>\n",
       "      <td>17/08/2022</td>\n",
       "      <td>Gaz</td>\n",
       "      <td>Bonbonne</td>\n",
       "      <td>57,48</td>\n",
       "      <td>CAD</td>\n",
       "      <td>43,72</td>\n",
       "    </tr>\n",
       "    <tr>\n",
       "      <td>1</td>\n",
       "      <td>17/08/2022</td>\n",
       "      <td>Transport</td>\n",
       "      <td>essence</td>\n",
       "      <td>150,00</td>\n",
       "      <td>CAD</td>\n",
       "      <td>114,09</td>\n",
       "    </tr>\n",
       "    <tr>\n",
       "      <td>2</td>\n",
       "      <td>17/08/2022</td>\n",
       "      <td>Alimentation</td>\n",
       "      <td>courses alimentaires</td>\n",
       "      <td>34,64</td>\n",
       "      <td>CAD</td>\n",
       "      <td>26,35</td>\n",
       "    </tr>\n",
       "    <tr>\n",
       "      <td>3</td>\n",
       "      <td>17/08/2022</td>\n",
       "      <td>Équipement</td>\n",
       "      <td>Canadian Tire</td>\n",
       "      <td>28,15</td>\n",
       "      <td>CAD</td>\n",
       "      <td>21,41</td>\n",
       "    </tr>\n",
       "    <tr>\n",
       "      <td>4</td>\n",
       "      <td>17/08/2022</td>\n",
       "      <td>Gaz</td>\n",
       "      <td>Remplissage</td>\n",
       "      <td>31,60</td>\n",
       "      <td>CAD</td>\n",
       "      <td>24,03</td>\n",
       "    </tr>\n",
       "  </tbody>\n",
       "</table>\n",
       "</div>"
      ],
      "text/plain": [
       "         Date     Catégorie                  Tags Montant de dépense Devise  \\\n",
       "0  17/08/2022           Gaz              Bonbonne              57,48    CAD   \n",
       "1  17/08/2022     Transport               essence             150,00    CAD   \n",
       "2  17/08/2022  Alimentation  courses alimentaires              34,64    CAD   \n",
       "3  17/08/2022    Équipement         Canadian Tire              28,15    CAD   \n",
       "4  17/08/2022           Gaz           Remplissage              31,60    CAD   \n",
       "\n",
       "  En devise principale  \n",
       "0                43,72  \n",
       "1               114,09  \n",
       "2                26,35  \n",
       "3                21,41  \n",
       "4                24,03  "
      ]
     },
     "execution_count": 332,
     "metadata": {},
     "output_type": "execute_result"
    }
   ],
   "source": [
    "depenses.head(5)"
   ]
  },
  {
   "cell_type": "code",
   "execution_count": 333,
   "metadata": {},
   "outputs": [],
   "source": [
    "depenses.rename(columns={'Catégorie': 'Categorie',\n",
    "                     'Montant de dépense': 'Depense',\n",
    "                     'En devise principale': 'Depense_EUR'},\n",
    "            inplace=True) "
   ]
  },
  {
   "cell_type": "code",
   "execution_count": 334,
   "metadata": {},
   "outputs": [],
   "source": [
    "depenses.replace({'Tags': {'essence': 'Essence',\n",
    "                           'métro': 'Métro'}},\n",
    "                 inplace=True)"
   ]
  },
  {
   "cell_type": "markdown",
   "metadata": {},
   "source": [
    "### Vérification et correction des données"
   ]
  },
  {
   "cell_type": "code",
   "execution_count": 335,
   "metadata": {},
   "outputs": [
    {
     "data": {
      "text/plain": [
       "50,00    0.028986\n",
       "10,00    0.018116\n",
       "40,00    0.018116\n",
       "60,00    0.018116\n",
       "45,00    0.014493\n",
       "           ...   \n",
       "50,04    0.003623\n",
       "74,20    0.003623\n",
       "64,80    0.003623\n",
       "37,75    0.003623\n",
       "43,00    0.003623\n",
       "Name: Depense, Length: 217, dtype: float64"
      ]
     },
     "execution_count": 335,
     "metadata": {},
     "output_type": "execute_result"
    }
   ],
   "source": [
    "counts = depenses['Depense'].value_counts(normalize=True)\n",
    "counts\n",
    "# Compter les occurrences de valeurs uniques dans une colonne\n",
    "# d'un DataFrame en utilisant des valeurs normalisées"
   ]
  },
  {
   "cell_type": "markdown",
   "metadata": {},
   "source": [
    "L'utilisation de valeurs normalisées a pour but de mettre toutes les valeurs sur une même échelle pour faciliter la comparaison entre les différentes valeurs d'une colonne ou d'un DataFrame.\n",
    "\n",
    "Utiliser des valeurs normalisées revient à diviser chaque valeur d'une colonne par la somme totale des valeurs de cette colonne. Cela signifie que la somme totale des valeurs normalisées d'une colonne sera égale à 1.\n",
    "\n",
    "L'avantage de cette méthode est qu'elle permet de comparer les valeurs d'une colonne indépendamment de leur échelle absolue. "
   ]
  },
  {
   "cell_type": "code",
   "execution_count": 336,
   "metadata": {},
   "outputs": [
    {
     "data": {
      "text/plain": [
       "50,00    8\n",
       "10,00    5\n",
       "40,00    5\n",
       "60,00    5\n",
       "45,00    4\n",
       "        ..\n",
       "50,04    1\n",
       "74,20    1\n",
       "64,80    1\n",
       "37,75    1\n",
       "43,00    1\n",
       "Name: Depense, Length: 217, dtype: int64"
      ]
     },
     "execution_count": 336,
     "metadata": {},
     "output_type": "execute_result"
    }
   ],
   "source": [
    "counts = depenses['Depense'].value_counts(sort=True,ascending=False)\n",
    "counts"
   ]
  },
  {
   "cell_type": "markdown",
   "metadata": {},
   "source": [
    "### Format des données : convertir des string en float"
   ]
  },
  {
   "cell_type": "markdown",
   "metadata": {},
   "source": [
    "*depenses['Depense'] = depenses['Depense'].astype(float)* renvoie l'erreur ValueError: could not convert string to float: '57,48'."
   ]
  },
  {
   "cell_type": "code",
   "execution_count": 337,
   "metadata": {
    "scrolled": true
   },
   "outputs": [
    {
     "data": {
      "text/plain": [
       "Date            object\n",
       "Categorie       object\n",
       "Tags            object\n",
       "Depense        float64\n",
       "Devise          object\n",
       "Depense_EUR    float64\n",
       "dtype: object"
      ]
     },
     "execution_count": 337,
     "metadata": {},
     "output_type": "execute_result"
    }
   ],
   "source": [
    "depenses['Depense'] = depenses['Depense'].apply(lambda x: \n",
    "                                        float(x.replace(',', '.')))\n",
    "depenses['Depense_EUR'] = depenses['Depense_EUR'].apply(lambda x: \n",
    "                                        float(x.replace(',', '.')))\n",
    "depenses.dtypes"
   ]
  },
  {
   "cell_type": "code",
   "execution_count": 338,
   "metadata": {},
   "outputs": [
    {
     "data": {
      "text/html": [
       "<div>\n",
       "<style scoped>\n",
       "    .dataframe tbody tr th:only-of-type {\n",
       "        vertical-align: middle;\n",
       "    }\n",
       "\n",
       "    .dataframe tbody tr th {\n",
       "        vertical-align: top;\n",
       "    }\n",
       "\n",
       "    .dataframe thead th {\n",
       "        text-align: right;\n",
       "    }\n",
       "</style>\n",
       "<table border=\"1\" class=\"dataframe\">\n",
       "  <thead>\n",
       "    <tr style=\"text-align: right;\">\n",
       "      <th></th>\n",
       "      <th>Depense</th>\n",
       "      <th>Depense_EUR</th>\n",
       "    </tr>\n",
       "  </thead>\n",
       "  <tbody>\n",
       "    <tr>\n",
       "      <td>count</td>\n",
       "      <td>276.000000</td>\n",
       "      <td>276.000000</td>\n",
       "    </tr>\n",
       "    <tr>\n",
       "      <td>mean</td>\n",
       "      <td>53.917283</td>\n",
       "      <td>49.379239</td>\n",
       "    </tr>\n",
       "    <tr>\n",
       "      <td>std</td>\n",
       "      <td>57.985203</td>\n",
       "      <td>55.547845</td>\n",
       "    </tr>\n",
       "    <tr>\n",
       "      <td>min</td>\n",
       "      <td>1.000000</td>\n",
       "      <td>1.020000</td>\n",
       "    </tr>\n",
       "    <tr>\n",
       "      <td>25%</td>\n",
       "      <td>16.820000</td>\n",
       "      <td>14.675000</td>\n",
       "    </tr>\n",
       "    <tr>\n",
       "      <td>50%</td>\n",
       "      <td>43.275000</td>\n",
       "      <td>38.310000</td>\n",
       "    </tr>\n",
       "    <tr>\n",
       "      <td>75%</td>\n",
       "      <td>67.367500</td>\n",
       "      <td>63.637500</td>\n",
       "    </tr>\n",
       "    <tr>\n",
       "      <td>max</td>\n",
       "      <td>468.000000</td>\n",
       "      <td>469.880000</td>\n",
       "    </tr>\n",
       "  </tbody>\n",
       "</table>\n",
       "</div>"
      ],
      "text/plain": [
       "          Depense  Depense_EUR\n",
       "count  276.000000   276.000000\n",
       "mean    53.917283    49.379239\n",
       "std     57.985203    55.547845\n",
       "min      1.000000     1.020000\n",
       "25%     16.820000    14.675000\n",
       "50%     43.275000    38.310000\n",
       "75%     67.367500    63.637500\n",
       "max    468.000000   469.880000"
      ]
     },
     "execution_count": 338,
     "metadata": {},
     "output_type": "execute_result"
    }
   ],
   "source": [
    "depenses.describe()"
   ]
  },
  {
   "cell_type": "markdown",
   "metadata": {},
   "source": [
    "### Nettoyage du fichier json"
   ]
  },
  {
   "cell_type": "code",
   "execution_count": 339,
   "metadata": {},
   "outputs": [
    {
     "data": {
      "text/html": [
       "<div>\n",
       "<style scoped>\n",
       "    .dataframe tbody tr th:only-of-type {\n",
       "        vertical-align: middle;\n",
       "    }\n",
       "\n",
       "    .dataframe tbody tr th {\n",
       "        vertical-align: top;\n",
       "    }\n",
       "\n",
       "    .dataframe thead th {\n",
       "        text-align: right;\n",
       "    }\n",
       "</style>\n",
       "<table border=\"1\" class=\"dataframe\">\n",
       "  <thead>\n",
       "    <tr style=\"text-align: right;\">\n",
       "      <th></th>\n",
       "      <th>lat</th>\n",
       "      <th>lon</th>\n",
       "      <th>time</th>\n",
       "    </tr>\n",
       "  </thead>\n",
       "  <tbody>\n",
       "    <tr>\n",
       "      <td>0</td>\n",
       "      <td>36.095807</td>\n",
       "      <td>-115.177289</td>\n",
       "      <td>1.667323e+09</td>\n",
       "    </tr>\n",
       "    <tr>\n",
       "      <td>1</td>\n",
       "      <td>36.086533</td>\n",
       "      <td>-115.185564</td>\n",
       "      <td>1.667329e+09</td>\n",
       "    </tr>\n",
       "    <tr>\n",
       "      <td>2</td>\n",
       "      <td>36.028595</td>\n",
       "      <td>-115.216997</td>\n",
       "      <td>1.667329e+09</td>\n",
       "    </tr>\n",
       "    <tr>\n",
       "      <td>3</td>\n",
       "      <td>36.032000</td>\n",
       "      <td>-115.338441</td>\n",
       "      <td>1.667330e+09</td>\n",
       "    </tr>\n",
       "    <tr>\n",
       "      <td>4</td>\n",
       "      <td>36.035316</td>\n",
       "      <td>-115.355662</td>\n",
       "      <td>1.667330e+09</td>\n",
       "    </tr>\n",
       "  </tbody>\n",
       "</table>\n",
       "</div>"
      ],
      "text/plain": [
       "         lat         lon          time\n",
       "0  36.095807 -115.177289  1.667323e+09\n",
       "1  36.086533 -115.185564  1.667329e+09\n",
       "2  36.028595 -115.216997  1.667329e+09\n",
       "3  36.032000 -115.338441  1.667330e+09\n",
       "4  36.035316 -115.355662  1.667330e+09"
      ]
     },
     "execution_count": 339,
     "metadata": {},
     "output_type": "execute_result"
    }
   ],
   "source": [
    "locations.head(5)"
   ]
  },
  {
   "cell_type": "code",
   "execution_count": 340,
   "metadata": {
    "scrolled": true
   },
   "outputs": [],
   "source": [
    "## Convertir un format de date : from timestamp UNIX (s) to \"jj/mm/aaaa HH:MM\"\n",
    "#locations[\"time\"] = pd.to_datetime(locations[\"time\"], unit='s')\n",
    "\n",
    "## Séparer en deux colonnes date et temps et formatter l'affichage\n",
    "#locations[\"Date\"] = locations[\"time\"].dt.strftime('%d/%m/%Y')\n",
    "#locations[\"Heure\"] = locations[\"time\"].dt.strftime('%H:%M')\n",
    "#locations.drop(\"time\", axis=1, inplace=True)\n",
    "\n",
    "#locations.head(5)"
   ]
  },
  {
   "cell_type": "markdown",
   "metadata": {},
   "source": [
    "La fonction utilise la fonction **to_datetime()** de Pandas pour convertir les données de temps en format datetime, puis utilise la propriété dt pour formater la date et l'heure en utilisant le format spécifié."
   ]
  },
  {
   "cell_type": "code",
   "execution_count": 341,
   "metadata": {},
   "outputs": [],
   "source": [
    "import matplotlib.pyplot as plt\n",
    "import numpy as np\n",
    "\n",
    "def plot_date_histogram(df, date_column):\n",
    "    date_counts = df.groupby(pd.to_datetime(df[date_column]).dt.date).nunique()\n",
    "    date_counts.plot(kind='bar')\n",
    "    plt.xlabel('Date')\n",
    "    plt.xticks(rotation=90,\n",
    "               ha='center',\n",
    "               fontsize=8)\n",
    "    plt.xticks(np.arange(0, len(date_counts), 7))\n",
    "    plt.ylabel('Number of rows')\n",
    "    plt.title('Number of rows by date')\n",
    "    plt.show()"
   ]
  },
  {
   "cell_type": "markdown",
   "metadata": {},
   "source": [
    "La fonction utilise la fonction **groupby()** pour regrouper les données par date, puis utilise la fonction **nunique()** pour compter le nombre de lignes distinctes dans chaque groupe. "
   ]
  },
  {
   "cell_type": "code",
   "execution_count": 342,
   "metadata": {},
   "outputs": [
    {
     "data": {
      "image/png": "[encoded data removed]",
      "text/plain": [
       "<Figure size 432x288 with 1 Axes>"
      ]
     },
     "metadata": {
      "needs_background": "light"
     },
     "output_type": "display_data"
    }
   ],
   "source": [
    "plot_date_histogram(rounded_loc[['Date','Heure']], 'Date')"
   ]
  },
  {
   "cell_type": "code",
   "execution_count": 343,
   "metadata": {},
   "outputs": [
    {
     "data": {
      "text/plain": [
       "(7624, 3)"
      ]
     },
     "execution_count": 343,
     "metadata": {},
     "output_type": "execute_result"
    }
   ],
   "source": [
    "locations.shape"
   ]
  },
  {
   "cell_type": "markdown",
   "metadata": {},
   "source": [
    "Il y a actuellement 7624 localisations différentes. Nous n'avons pas besoin d'autant de détails pour notre étude. Pour simplifier, je décide donc de réduire la quantité de coordonnées GPS en ne conservant que la première ligne pour chaque date distincte."
   ]
  },
  {
   "cell_type": "code",
   "execution_count": 344,
   "metadata": {},
   "outputs": [
    {
     "data": {
      "text/html": [
       "<div>\n",
       "<style scoped>\n",
       "    .dataframe tbody tr th:only-of-type {\n",
       "        vertical-align: middle;\n",
       "    }\n",
       "\n",
       "    .dataframe tbody tr th {\n",
       "        vertical-align: top;\n",
       "    }\n",
       "\n",
       "    .dataframe thead th {\n",
       "        text-align: right;\n",
       "    }\n",
       "</style>\n",
       "<table border=\"1\" class=\"dataframe\">\n",
       "  <thead>\n",
       "    <tr style=\"text-align: right;\">\n",
       "      <th></th>\n",
       "      <th>lat</th>\n",
       "      <th>lon</th>\n",
       "      <th>Date</th>\n",
       "    </tr>\n",
       "  </thead>\n",
       "  <tbody>\n",
       "    <tr>\n",
       "      <td>0</td>\n",
       "      <td>44.894380</td>\n",
       "      <td>-76.007371</td>\n",
       "      <td>18/08/2022</td>\n",
       "    </tr>\n",
       "    <tr>\n",
       "      <td>1</td>\n",
       "      <td>44.602287</td>\n",
       "      <td>-80.918429</td>\n",
       "      <td>19/08/2022</td>\n",
       "    </tr>\n",
       "    <tr>\n",
       "      <td>2</td>\n",
       "      <td>45.191095</td>\n",
       "      <td>-81.554284</td>\n",
       "      <td>20/08/2022</td>\n",
       "    </tr>\n",
       "    <tr>\n",
       "      <td>3</td>\n",
       "      <td>45.775981</td>\n",
       "      <td>-81.850329</td>\n",
       "      <td>21/08/2022</td>\n",
       "    </tr>\n",
       "    <tr>\n",
       "      <td>4</td>\n",
       "      <td>47.318486</td>\n",
       "      <td>-84.609867</td>\n",
       "      <td>22/08/2022</td>\n",
       "    </tr>\n",
       "    <tr>\n",
       "      <td>...</td>\n",
       "      <td>...</td>\n",
       "      <td>...</td>\n",
       "      <td>...</td>\n",
       "    </tr>\n",
       "    <tr>\n",
       "      <td>114</td>\n",
       "      <td>40.551989</td>\n",
       "      <td>-76.054747</td>\n",
       "      <td>12/12/2022</td>\n",
       "    </tr>\n",
       "    <tr>\n",
       "      <td>115</td>\n",
       "      <td>40.611942</td>\n",
       "      <td>-74.417707</td>\n",
       "      <td>13/12/2022</td>\n",
       "    </tr>\n",
       "    <tr>\n",
       "      <td>116</td>\n",
       "      <td>40.815561</td>\n",
       "      <td>-73.962249</td>\n",
       "      <td>14/12/2022</td>\n",
       "    </tr>\n",
       "    <tr>\n",
       "      <td>117</td>\n",
       "      <td>40.756887</td>\n",
       "      <td>-73.986064</td>\n",
       "      <td>15/12/2022</td>\n",
       "    </tr>\n",
       "    <tr>\n",
       "      <td>118</td>\n",
       "      <td>43.486773</td>\n",
       "      <td>-73.758032</td>\n",
       "      <td>16/12/2022</td>\n",
       "    </tr>\n",
       "  </tbody>\n",
       "</table>\n",
       "<p>119 rows × 3 columns</p>\n",
       "</div>"
      ],
      "text/plain": [
       "           lat        lon        Date\n",
       "0    44.894380 -76.007371  18/08/2022\n",
       "1    44.602287 -80.918429  19/08/2022\n",
       "2    45.191095 -81.554284  20/08/2022\n",
       "3    45.775981 -81.850329  21/08/2022\n",
       "4    47.318486 -84.609867  22/08/2022\n",
       "..         ...        ...         ...\n",
       "114  40.551989 -76.054747  12/12/2022\n",
       "115  40.611942 -74.417707  13/12/2022\n",
       "116  40.815561 -73.962249  14/12/2022\n",
       "117  40.756887 -73.986064  15/12/2022\n",
       "118  43.486773 -73.758032  16/12/2022\n",
       "\n",
       "[119 rows x 3 columns]"
      ]
     },
     "execution_count": 344,
     "metadata": {},
     "output_type": "execute_result"
    }
   ],
   "source": [
    "reduced_loc = locations.copy()\n",
    "reduced_loc['time'] = pd.to_datetime(reduced_loc['time'], unit='s')\n",
    "reduced_loc = reduced_loc.sort_values(by=['time'])\n",
    "\n",
    "## Séparer en deux colonnes date et temps et formatter l'affichage\n",
    "reduced_loc[\"Date\"] = reduced_loc[\"time\"].dt.strftime('%d/%m/%Y')\n",
    "reduced_loc.drop(\"time\", axis=1, inplace=True)\n",
    "reduced_loc.drop_duplicates(subset=['Date'], keep='first', inplace=True)\n",
    "reduced_loc.reset_index(drop=True, inplace=True)\n",
    "reduced_loc"
   ]
  },
  {
   "cell_type": "code",
   "execution_count": 345,
   "metadata": {},
   "outputs": [],
   "source": [
    "# Alternative: conserver la première et la dernière ligne pour chaque date\n",
    "\n",
    "#grouped = locations.copy()\n",
    "#grouped['time'] = pd.to_datetime(grouped['time'], unit='s')\n",
    "#grouped = grouped.sort_values(by=['time'])\n",
    "#grouped = grouped.groupby(grouped['time'].dt.date)\n",
    "#reduced_loc = pd.DataFrame()\n",
    "#for date, group in grouped:\n",
    "#    first_row = group.iloc[0]\n",
    "#    last_row = group.iloc[-1]\n",
    "#    reduced_loc = reduced_loc.append([first_row, last_row])\n",
    "    \n",
    "#reduced_loc # 238 lignes seulement"
   ]
  },
  {
   "cell_type": "markdown",
   "metadata": {},
   "source": [
    "#### Transformer les coordonnées géographiques"
   ]
  },
  {
   "cell_type": "code",
   "execution_count": 346,
   "metadata": {},
   "outputs": [],
   "source": [
    "from geopy.geocoders import Nominatim\n",
    "from geopy.point import Point\n",
    "import numpy as np\n",
    "\n",
    "geolocator = Nominatim(user_agent=\"test\")\n",
    "\n",
    "def reverse_geocoding(lat, lon):\n",
    "    try:\n",
    "        location = geolocator.reverse(Point(lat, lon))\n",
    "        return location.raw['display_name']\n",
    "    except:\n",
    "        return None\n",
    "    \n",
    "reduced_loc['address'] = np.vectorize(reverse_geocoding)(reduced_loc['lat'],\n",
    "                                                         reduced_loc['lon'])"
   ]
  },
  {
   "cell_type": "code",
   "execution_count": 347,
   "metadata": {},
   "outputs": [
    {
     "data": {
      "text/html": [
       "<div>\n",
       "<style scoped>\n",
       "    .dataframe tbody tr th:only-of-type {\n",
       "        vertical-align: middle;\n",
       "    }\n",
       "\n",
       "    .dataframe tbody tr th {\n",
       "        vertical-align: top;\n",
       "    }\n",
       "\n",
       "    .dataframe thead th {\n",
       "        text-align: right;\n",
       "    }\n",
       "</style>\n",
       "<table border=\"1\" class=\"dataframe\">\n",
       "  <thead>\n",
       "    <tr style=\"text-align: right;\">\n",
       "      <th></th>\n",
       "      <th>lat</th>\n",
       "      <th>lon</th>\n",
       "      <th>Date</th>\n",
       "      <th>address</th>\n",
       "    </tr>\n",
       "  </thead>\n",
       "  <tbody>\n",
       "    <tr>\n",
       "      <td>0</td>\n",
       "      <td>44.894380</td>\n",
       "      <td>-76.007371</td>\n",
       "      <td>18/08/2022</td>\n",
       "      <td>108, Queen Street, Smiths Falls, Eastern Ontar...</td>\n",
       "    </tr>\n",
       "    <tr>\n",
       "      <td>1</td>\n",
       "      <td>44.602287</td>\n",
       "      <td>-80.918429</td>\n",
       "      <td>19/08/2022</td>\n",
       "      <td>3259, 3rd Avenue East, Owen Sound, Grey County...</td>\n",
       "    </tr>\n",
       "    <tr>\n",
       "      <td>2</td>\n",
       "      <td>45.191095</td>\n",
       "      <td>-81.554284</td>\n",
       "      <td>20/08/2022</td>\n",
       "      <td>Roxy’s Gas &amp; Variety, 6313, Highway 6, Municip...</td>\n",
       "    </tr>\n",
       "    <tr>\n",
       "      <td>3</td>\n",
       "      <td>45.775981</td>\n",
       "      <td>-81.850329</td>\n",
       "      <td>21/08/2022</td>\n",
       "      <td>14146, Highway 6, Assiginack Township, Manitou...</td>\n",
       "    </tr>\n",
       "    <tr>\n",
       "      <td>4</td>\n",
       "      <td>47.318486</td>\n",
       "      <td>-84.609867</td>\n",
       "      <td>22/08/2022</td>\n",
       "      <td>Highway 17, Unorganized North Algoma, Algoma D...</td>\n",
       "    </tr>\n",
       "    <tr>\n",
       "      <td>...</td>\n",
       "      <td>...</td>\n",
       "      <td>...</td>\n",
       "      <td>...</td>\n",
       "      <td>...</td>\n",
       "    </tr>\n",
       "    <tr>\n",
       "      <td>114</td>\n",
       "      <td>40.551989</td>\n",
       "      <td>-76.054747</td>\n",
       "      <td>12/12/2022</td>\n",
       "      <td>Mountain Road, Tilden Township, Berks County, ...</td>\n",
       "    </tr>\n",
       "    <tr>\n",
       "      <td>115</td>\n",
       "      <td>40.611942</td>\n",
       "      <td>-74.417707</td>\n",
       "      <td>13/12/2022</td>\n",
       "      <td>806, Madison Avenue, Plainfield, Union County,...</td>\n",
       "    </tr>\n",
       "    <tr>\n",
       "      <td>116</td>\n",
       "      <td>40.815561</td>\n",
       "      <td>-73.962249</td>\n",
       "      <td>14/12/2022</td>\n",
       "      <td>Riverside Drive, Morningside Heights, Manhatta...</td>\n",
       "    </tr>\n",
       "    <tr>\n",
       "      <td>117</td>\n",
       "      <td>40.756887</td>\n",
       "      <td>-73.986064</td>\n",
       "      <td>15/12/2022</td>\n",
       "      <td>Times Square, 7th Avenue, Times Square, Manhat...</td>\n",
       "    </tr>\n",
       "    <tr>\n",
       "      <td>118</td>\n",
       "      <td>43.486773</td>\n",
       "      <td>-73.758032</td>\n",
       "      <td>16/12/2022</td>\n",
       "      <td>Super 8 by Wyndham Lake George/Warrensburg Are...</td>\n",
       "    </tr>\n",
       "  </tbody>\n",
       "</table>\n",
       "<p>119 rows × 4 columns</p>\n",
       "</div>"
      ],
      "text/plain": [
       "           lat        lon        Date  \\\n",
       "0    44.894380 -76.007371  18/08/2022   \n",
       "1    44.602287 -80.918429  19/08/2022   \n",
       "2    45.191095 -81.554284  20/08/2022   \n",
       "3    45.775981 -81.850329  21/08/2022   \n",
       "4    47.318486 -84.609867  22/08/2022   \n",
       "..         ...        ...         ...   \n",
       "114  40.551989 -76.054747  12/12/2022   \n",
       "115  40.611942 -74.417707  13/12/2022   \n",
       "116  40.815561 -73.962249  14/12/2022   \n",
       "117  40.756887 -73.986064  15/12/2022   \n",
       "118  43.486773 -73.758032  16/12/2022   \n",
       "\n",
       "                                               address  \n",
       "0    108, Queen Street, Smiths Falls, Eastern Ontar...  \n",
       "1    3259, 3rd Avenue East, Owen Sound, Grey County...  \n",
       "2    Roxy’s Gas & Variety, 6313, Highway 6, Municip...  \n",
       "3    14146, Highway 6, Assiginack Township, Manitou...  \n",
       "4    Highway 17, Unorganized North Algoma, Algoma D...  \n",
       "..                                                 ...  \n",
       "114  Mountain Road, Tilden Township, Berks County, ...  \n",
       "115  806, Madison Avenue, Plainfield, Union County,...  \n",
       "116  Riverside Drive, Morningside Heights, Manhatta...  \n",
       "117  Times Square, 7th Avenue, Times Square, Manhat...  \n",
       "118  Super 8 by Wyndham Lake George/Warrensburg Are...  \n",
       "\n",
       "[119 rows x 4 columns]"
      ]
     },
     "execution_count": 347,
     "metadata": {},
     "output_type": "execute_result"
    }
   ],
   "source": [
    "reduced_loc"
   ]
  },
  {
   "cell_type": "markdown",
   "metadata": {},
   "source": [
    "La fonction utilise la bibliothèque **geopy** pour effectuer une géocodage inverse. Elle crée un objet geolocator de la classe **Nominatim** en spécifiant un **user_agent** (par exemple \"test\"). Elle utilise cet objet pour effectuer une requête de géocodage inverse en utilisant la fonction **reverse()** de l'objet **geolocator** en passant en argument un objet Point qui contient les coordonnées lat,lon. La fonction retourne les informations géographiques sous forme de chaine de caractère (display_name) associées à ces coordonnées. Si la requête échoue, la fonction retourne None."
   ]
  },
  {
   "cell_type": "code",
   "execution_count": 348,
   "metadata": {},
   "outputs": [
    {
     "data": {
      "text/plain": [
       "'Aspen Grove, Bald Butte Road, Maple Creek No. 111, Division No. 4, Saskatchewan, Canada'"
      ]
     },
     "execution_count": 348,
     "metadata": {},
     "output_type": "execute_result"
    }
   ],
   "source": [
    "reduced_loc.at[9,'address']"
   ]
  },
  {
   "cell_type": "markdown",
   "metadata": {},
   "source": [
    "Il manque l'addresse du jour du départ, je l'ajoute manuellement."
   ]
  },
  {
   "cell_type": "code",
   "execution_count": 349,
   "metadata": {},
   "outputs": [],
   "source": [
    "montreal_row = {'lat': 45.503182, 'lon': -73.569806, 'Date': '17/08/2022',\n",
    "                'address': 'Boulevard Robert-Bourassa et rue Sainte-Catherine, Boulevard Robert-Bourassa, René-Lévesque, Ville-Marie, Montréal, Agglomération de Montréal, Montréal (06), Québec, H3A 2A6, Canada'}\n",
    "reduced_loc = reduced_loc.append(montreal_row, ignore_index=True)"
   ]
  },
  {
   "cell_type": "markdown",
   "metadata": {},
   "source": [
    "# Transformation des données "
   ]
  },
  {
   "cell_type": "markdown",
   "metadata": {},
   "source": [
    "### Joindre les deux DataFrames"
   ]
  },
  {
   "cell_type": "code",
   "execution_count": 399,
   "metadata": {},
   "outputs": [
    {
     "data": {
      "text/html": [
       "<div>\n",
       "<style scoped>\n",
       "    .dataframe tbody tr th:only-of-type {\n",
       "        vertical-align: middle;\n",
       "    }\n",
       "\n",
       "    .dataframe tbody tr th {\n",
       "        vertical-align: top;\n",
       "    }\n",
       "\n",
       "    .dataframe thead th {\n",
       "        text-align: right;\n",
       "    }\n",
       "</style>\n",
       "<table border=\"1\" class=\"dataframe\">\n",
       "  <thead>\n",
       "    <tr style=\"text-align: right;\">\n",
       "      <th></th>\n",
       "      <th>Date</th>\n",
       "      <th>Categorie</th>\n",
       "      <th>Tags</th>\n",
       "      <th>Depense</th>\n",
       "      <th>Devise</th>\n",
       "      <th>Depense_EUR</th>\n",
       "      <th>lat</th>\n",
       "      <th>lon</th>\n",
       "      <th>address</th>\n",
       "    </tr>\n",
       "  </thead>\n",
       "  <tbody>\n",
       "    <tr>\n",
       "      <td>0</td>\n",
       "      <td>17/08/2022</td>\n",
       "      <td>Gaz</td>\n",
       "      <td>Bonbonne</td>\n",
       "      <td>57.48</td>\n",
       "      <td>CAD</td>\n",
       "      <td>43.72</td>\n",
       "      <td>45.503182</td>\n",
       "      <td>-73.569806</td>\n",
       "      <td>Boulevard Robert-Bourassa et rue Sainte-Cather...</td>\n",
       "    </tr>\n",
       "    <tr>\n",
       "      <td>1</td>\n",
       "      <td>17/08/2022</td>\n",
       "      <td>Transport</td>\n",
       "      <td>Essence</td>\n",
       "      <td>150.00</td>\n",
       "      <td>CAD</td>\n",
       "      <td>114.09</td>\n",
       "      <td>45.503182</td>\n",
       "      <td>-73.569806</td>\n",
       "      <td>Boulevard Robert-Bourassa et rue Sainte-Cather...</td>\n",
       "    </tr>\n",
       "    <tr>\n",
       "      <td>2</td>\n",
       "      <td>17/08/2022</td>\n",
       "      <td>Alimentation</td>\n",
       "      <td>courses alimentaires</td>\n",
       "      <td>34.64</td>\n",
       "      <td>CAD</td>\n",
       "      <td>26.35</td>\n",
       "      <td>45.503182</td>\n",
       "      <td>-73.569806</td>\n",
       "      <td>Boulevard Robert-Bourassa et rue Sainte-Cather...</td>\n",
       "    </tr>\n",
       "    <tr>\n",
       "      <td>3</td>\n",
       "      <td>17/08/2022</td>\n",
       "      <td>Équipement</td>\n",
       "      <td>Canadian Tire</td>\n",
       "      <td>28.15</td>\n",
       "      <td>CAD</td>\n",
       "      <td>21.41</td>\n",
       "      <td>45.503182</td>\n",
       "      <td>-73.569806</td>\n",
       "      <td>Boulevard Robert-Bourassa et rue Sainte-Cather...</td>\n",
       "    </tr>\n",
       "    <tr>\n",
       "      <td>4</td>\n",
       "      <td>17/08/2022</td>\n",
       "      <td>Gaz</td>\n",
       "      <td>Remplissage</td>\n",
       "      <td>31.60</td>\n",
       "      <td>CAD</td>\n",
       "      <td>24.03</td>\n",
       "      <td>45.503182</td>\n",
       "      <td>-73.569806</td>\n",
       "      <td>Boulevard Robert-Bourassa et rue Sainte-Cather...</td>\n",
       "    </tr>\n",
       "    <tr>\n",
       "      <td>...</td>\n",
       "      <td>...</td>\n",
       "      <td>...</td>\n",
       "      <td>...</td>\n",
       "      <td>...</td>\n",
       "      <td>...</td>\n",
       "      <td>...</td>\n",
       "      <td>...</td>\n",
       "      <td>...</td>\n",
       "      <td>...</td>\n",
       "    </tr>\n",
       "    <tr>\n",
       "      <td>271</td>\n",
       "      <td>13/12/2022</td>\n",
       "      <td>Transport</td>\n",
       "      <td>Métro</td>\n",
       "      <td>5.50</td>\n",
       "      <td>USD</td>\n",
       "      <td>5.17</td>\n",
       "      <td>40.611942</td>\n",
       "      <td>-74.417707</td>\n",
       "      <td>806, Madison Avenue, Plainfield, Union County,...</td>\n",
       "    </tr>\n",
       "    <tr>\n",
       "      <td>272</td>\n",
       "      <td>14/12/2022</td>\n",
       "      <td>Loisirs</td>\n",
       "      <td>Spectacle</td>\n",
       "      <td>283.70</td>\n",
       "      <td>USD</td>\n",
       "      <td>265.60</td>\n",
       "      <td>40.815561</td>\n",
       "      <td>-73.962249</td>\n",
       "      <td>Riverside Drive, Morningside Heights, Manhatta...</td>\n",
       "    </tr>\n",
       "    <tr>\n",
       "      <td>273</td>\n",
       "      <td>14/12/2022</td>\n",
       "      <td>Alimentation</td>\n",
       "      <td>café et thé</td>\n",
       "      <td>32.00</td>\n",
       "      <td>USD</td>\n",
       "      <td>29.96</td>\n",
       "      <td>40.815561</td>\n",
       "      <td>-73.962249</td>\n",
       "      <td>Riverside Drive, Morningside Heights, Manhatta...</td>\n",
       "    </tr>\n",
       "    <tr>\n",
       "      <td>274</td>\n",
       "      <td>15/12/2022</td>\n",
       "      <td>Logement</td>\n",
       "      <td>Hôtel</td>\n",
       "      <td>60.00</td>\n",
       "      <td>USD</td>\n",
       "      <td>56.44</td>\n",
       "      <td>40.756887</td>\n",
       "      <td>-73.986064</td>\n",
       "      <td>Times Square, 7th Avenue, Times Square, Manhat...</td>\n",
       "    </tr>\n",
       "    <tr>\n",
       "      <td>275</td>\n",
       "      <td>15/12/2022</td>\n",
       "      <td>Transport</td>\n",
       "      <td>Essence</td>\n",
       "      <td>75.00</td>\n",
       "      <td>USD</td>\n",
       "      <td>70.55</td>\n",
       "      <td>40.756887</td>\n",
       "      <td>-73.986064</td>\n",
       "      <td>Times Square, 7th Avenue, Times Square, Manhat...</td>\n",
       "    </tr>\n",
       "  </tbody>\n",
       "</table>\n",
       "<p>276 rows × 9 columns</p>\n",
       "</div>"
      ],
      "text/plain": [
       "           Date     Categorie                  Tags  Depense Devise  \\\n",
       "0    17/08/2022           Gaz              Bonbonne    57.48    CAD   \n",
       "1    17/08/2022     Transport               Essence   150.00    CAD   \n",
       "2    17/08/2022  Alimentation  courses alimentaires    34.64    CAD   \n",
       "3    17/08/2022    Équipement         Canadian Tire    28.15    CAD   \n",
       "4    17/08/2022           Gaz           Remplissage    31.60    CAD   \n",
       "..          ...           ...                   ...      ...    ...   \n",
       "271  13/12/2022     Transport                 Métro     5.50    USD   \n",
       "272  14/12/2022       Loisirs             Spectacle   283.70    USD   \n",
       "273  14/12/2022  Alimentation           café et thé    32.00    USD   \n",
       "274  15/12/2022      Logement                 Hôtel    60.00    USD   \n",
       "275  15/12/2022     Transport               Essence    75.00    USD   \n",
       "\n",
       "     Depense_EUR        lat        lon  \\\n",
       "0          43.72  45.503182 -73.569806   \n",
       "1         114.09  45.503182 -73.569806   \n",
       "2          26.35  45.503182 -73.569806   \n",
       "3          21.41  45.503182 -73.569806   \n",
       "4          24.03  45.503182 -73.569806   \n",
       "..           ...        ...        ...   \n",
       "271         5.17  40.611942 -74.417707   \n",
       "272       265.60  40.815561 -73.962249   \n",
       "273        29.96  40.815561 -73.962249   \n",
       "274        56.44  40.756887 -73.986064   \n",
       "275        70.55  40.756887 -73.986064   \n",
       "\n",
       "                                               address  \n",
       "0    Boulevard Robert-Bourassa et rue Sainte-Cather...  \n",
       "1    Boulevard Robert-Bourassa et rue Sainte-Cather...  \n",
       "2    Boulevard Robert-Bourassa et rue Sainte-Cather...  \n",
       "3    Boulevard Robert-Bourassa et rue Sainte-Cather...  \n",
       "4    Boulevard Robert-Bourassa et rue Sainte-Cather...  \n",
       "..                                                 ...  \n",
       "271  806, Madison Avenue, Plainfield, Union County,...  \n",
       "272  Riverside Drive, Morningside Heights, Manhatta...  \n",
       "273  Riverside Drive, Morningside Heights, Manhatta...  \n",
       "274  Times Square, 7th Avenue, Times Square, Manhat...  \n",
       "275  Times Square, 7th Avenue, Times Square, Manhat...  \n",
       "\n",
       "[276 rows x 9 columns]"
      ]
     },
     "execution_count": 399,
     "metadata": {},
     "output_type": "execute_result"
    }
   ],
   "source": [
    "merged_df = pd.merge(depenses, reduced_loc, on='Date', how='left')\n",
    "merged_df"
   ]
  },
  {
   "cell_type": "code",
   "execution_count": 387,
   "metadata": {},
   "outputs": [
    {
     "data": {
      "text/html": [
       "<div>\n",
       "<style scoped>\n",
       "    .dataframe tbody tr th:only-of-type {\n",
       "        vertical-align: middle;\n",
       "    }\n",
       "\n",
       "    .dataframe tbody tr th {\n",
       "        vertical-align: top;\n",
       "    }\n",
       "\n",
       "    .dataframe thead th {\n",
       "        text-align: right;\n",
       "    }\n",
       "</style>\n",
       "<table border=\"1\" class=\"dataframe\">\n",
       "  <thead>\n",
       "    <tr style=\"text-align: right;\">\n",
       "      <th></th>\n",
       "      <th>Date</th>\n",
       "      <th>Categorie</th>\n",
       "      <th>Tags</th>\n",
       "      <th>Depense</th>\n",
       "      <th>Devise</th>\n",
       "      <th>Depense_EUR</th>\n",
       "      <th>lat</th>\n",
       "      <th>lon</th>\n",
       "      <th>address</th>\n",
       "    </tr>\n",
       "  </thead>\n",
       "  <tbody>\n",
       "  </tbody>\n",
       "</table>\n",
       "</div>"
      ],
      "text/plain": [
       "Empty DataFrame\n",
       "Columns: [Date, Categorie, Tags, Depense, Devise, Depense_EUR, lat, lon, address]\n",
       "Index: []"
      ]
     },
     "execution_count": 387,
     "metadata": {},
     "output_type": "execute_result"
    }
   ],
   "source": [
    "merged_df[merged_df['address'].isnull()]"
   ]
  },
  {
   "cell_type": "markdown",
   "metadata": {},
   "source": [
    "# Analyse des données "
   ]
  },
  {
   "cell_type": "code",
   "execution_count": 388,
   "metadata": {},
   "outputs": [
    {
     "data": {
      "text/plain": [
       "Categorie\n",
       "Loisirs                      104.948333\n",
       "Logement                      76.577381\n",
       "Vêtements et chaussures       74.200000\n",
       "Transport                     61.017654\n",
       "Van                           57.914286\n",
       "Alimentation                  39.900753\n",
       "Équipement                    34.183636\n",
       "Gaz                           31.940000\n",
       "Visa                          27.000000\n",
       "Camping                        8.500000\n",
       "Santé et soins personnels      6.830667\n",
       "Frais bancaire                 3.125000\n",
       "Name: Depense, dtype: float64"
      ]
     },
     "execution_count": 388,
     "metadata": {},
     "output_type": "execute_result"
    }
   ],
   "source": [
    "merged_df.groupby('Categorie')['Depense'].mean().sort_values(ascending=False)"
   ]
  },
  {
   "cell_type": "code",
   "execution_count": 389,
   "metadata": {},
   "outputs": [
    {
     "data": {
      "text/html": [
       "<div>\n",
       "<style scoped>\n",
       "    .dataframe tbody tr th:only-of-type {\n",
       "        vertical-align: middle;\n",
       "    }\n",
       "\n",
       "    .dataframe tbody tr th {\n",
       "        vertical-align: top;\n",
       "    }\n",
       "\n",
       "    .dataframe thead th {\n",
       "        text-align: right;\n",
       "    }\n",
       "</style>\n",
       "<table border=\"1\" class=\"dataframe\">\n",
       "  <thead>\n",
       "    <tr style=\"text-align: right;\">\n",
       "      <th></th>\n",
       "      <th>Depense_EUR</th>\n",
       "    </tr>\n",
       "    <tr>\n",
       "      <th>Date</th>\n",
       "      <th></th>\n",
       "    </tr>\n",
       "  </thead>\n",
       "  <tbody>\n",
       "    <tr>\n",
       "      <td>11</td>\n",
       "      <td>55.488594</td>\n",
       "    </tr>\n",
       "    <tr>\n",
       "      <td>10</td>\n",
       "      <td>53.188088</td>\n",
       "    </tr>\n",
       "    <tr>\n",
       "      <td>8</td>\n",
       "      <td>48.758810</td>\n",
       "    </tr>\n",
       "    <tr>\n",
       "      <td>9</td>\n",
       "      <td>43.884265</td>\n",
       "    </tr>\n",
       "    <tr>\n",
       "      <td>12</td>\n",
       "      <td>42.017941</td>\n",
       "    </tr>\n",
       "  </tbody>\n",
       "</table>\n",
       "</div>"
      ],
      "text/plain": [
       "      Depense_EUR\n",
       "Date             \n",
       "11      55.488594\n",
       "10      53.188088\n",
       "8       48.758810\n",
       "9       43.884265\n",
       "12      42.017941"
      ]
     },
     "execution_count": 389,
     "metadata": {},
     "output_type": "execute_result"
    }
   ],
   "source": [
    "merged_df['Date'] = pd.to_datetime(merged_df['Date'], format='%d/%m/%Y')\n",
    "depense_per_month = merged_df.pivot_table(values='Depense_EUR',\n",
    "                                          index=merged_df['Date'].dt.month,\n",
    "                                          aggfunc='mean').sort_values(by='Depense_EUR',\n",
    "                                                                      ascending=False)\n",
    "depense_per_month"
   ]
  },
  {
   "cell_type": "markdown",
   "metadata": {},
   "source": [
    "Pour convertir des dates dans un format spécifique, on peut utiliser le paramètre **format** de la fonction **pd.to_datetime()** en spécifiant le format de la date d'origine. Ici, on utilise le format '%d/%m/%Y' pour indiquer que les dates sont au format jour/mois/année."
   ]
  },
  {
   "cell_type": "code",
   "execution_count": 391,
   "metadata": {},
   "outputs": [
    {
     "data": {
      "image/png": "[encoded data removed]",
      "text/plain": [
       "<Figure size 432x288 with 1 Axes>"
      ]
     },
     "metadata": {
      "needs_background": "light"
     },
     "output_type": "display_data"
    }
   ],
   "source": [
    "import seaborn as sns\n",
    "\n",
    "# Group by week\n",
    "merged_df['week'] = merged_df['Date'].dt.week\n",
    "df_by_week = merged_df.groupby(by='week').sum()\n",
    "\n",
    "# Créer un histogramme en utilisant Seaborn\n",
    "sns.barplot(x=df_by_week.index, y='Depense_EUR',\n",
    "            data=df_by_week)\n",
    "\n",
    "# Ajuster le format de l'axe x\n",
    "plt.xticks(rotation=90)\n",
    "\n",
    "# Ajouter un titre\n",
    "plt.title('Total des dépenses par semaine')\n",
    "\n",
    "# Afficher le graphique\n",
    "plt.show()"
   ]
  },
  {
   "cell_type": "code",
   "execution_count": 397,
   "metadata": {
    "scrolled": true
   },
   "outputs": [
    {
     "data": {
      "image/png": "[encoded data removed]",
      "text/plain": [
       "<Figure size 432x288 with 2 Axes>"
      ]
     },
     "metadata": {
      "needs_background": "light"
     },
     "output_type": "display_data"
    }
   ],
   "source": [
    "# Grouper les données par catégorie et tags\n",
    "df_grouped = merged_df.groupby(by=['Categorie', 'week'])['Depense_EUR'].sum().reset_index()\n",
    "\n",
    "# Créer un pivot table pour organiser les données\n",
    "df_pivot = df_grouped.pivot(index='Categorie', columns='week', values='Depense_EUR')\n",
    "\n",
    "# Utiliser Seaborn pour créer la heatmap\n",
    "sns.heatmap(df_pivot, cmap='Blues')\n",
    "\n",
    "# Ajouter un titre\n",
    "plt.title('Catégories les plus utilisées par semaine')\n",
    "\n",
    "# Afficher le graphique\n",
    "plt.show()"
   ]
  },
  {
   "cell_type": "markdown",
   "metadata": {},
   "source": [
    "# Exporter les données"
   ]
  },
  {
   "cell_type": "code",
   "execution_count": 400,
   "metadata": {},
   "outputs": [],
   "source": [
    "merged_df.to_csv('depensesVan.csv')"
   ]
  },
  {
   "cell_type": "code",
   "execution_count": null,
   "metadata": {},
   "outputs": [],
   "source": []
  }
 ],
 "metadata": {
  "kernelspec": {
   "display_name": "Python 3",
   "language": "python",
   "name": "python3"
  },
  "language_info": {
   "codemirror_mode": {
    "name": "ipython",
    "version": 3
   },
   "file_extension": ".py",
   "mimetype": "text/x-python",
   "name": "python",
   "nbconvert_exporter": "python",
   "pygments_lexer": "ipython3",
   "version": "3.7.4"
  }
 },
 "nbformat": 4,
 "nbformat_minor": 2
}
